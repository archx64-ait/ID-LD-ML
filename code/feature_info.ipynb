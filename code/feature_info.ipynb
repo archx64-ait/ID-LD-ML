{
 "cells": [
  {
   "cell_type": "code",
   "execution_count": null,
   "id": "initial_id",
   "metadata": {
    "collapsed": true
   },
   "outputs": [],
   "source": [
    "import pandas as pd\n",
    "\n",
    "df = pd.read_parquet('cic-collection.parquet')\n",
    "\n",
    "feature_info = pd.DataFrame({\n",
    "    'Feature Name': df.columns,\n",
    "    'Data Type': df.dtypes\n",
    "})\n",
    "\n",
    "# map data types to categories\n",
    "feature_info['Type Category'] = feature_info['Data Type'].apply(lambda x: 'Text' if x == 'object' else 'Number')\n",
    "\n",
    "# save to a CSV file\n",
    "feature_info.to_csv('feature_info.csv', index=False)"
   ]
  }
 ],
 "metadata": {
  "kernelspec": {
   "display_name": "Python 3",
   "language": "python",
   "name": "python3"
  },
  "language_info": {
   "codemirror_mode": {
    "name": "ipython",
    "version": 2
   },
   "file_extension": ".py",
   "mimetype": "text/x-python",
   "name": "python",
   "nbconvert_exporter": "python",
   "pygments_lexer": "ipython2",
   "version": "2.7.6"
  }
 },
 "nbformat": 4,
 "nbformat_minor": 5
}
