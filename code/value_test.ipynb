{
 "cells": [
  {
   "cell_type": "code",
   "execution_count": 3,
   "metadata": {},
   "outputs": [
    {
     "name": "stdout",
     "output_type": "stream",
     "text": [
      "Largest values in numerical columns:\n",
      "Bwd Packet Length Std        21326.24\n",
      "Bwd Packet Length Max        65160.00\n",
      "Packet Length Std            22788.29\n",
      "Packet Length Variance   519000000.00\n",
      "Bwd Packet Length Mean       33879.29\n",
      "Avg Bwd Segment Size         33879.29\n",
      "Packet Length Max            65160.00\n",
      "Avg Packet Size              17478.41\n",
      "Init Fwd Win Bytes           65535.00\n",
      "Packet Length Mean           17344.98\n",
      "Idle Std                  74795760.00\n",
      "ClassLabel                       3.00\n",
      "dtype: float64\n",
      "\n",
      "Smallest values in numerical columns:\n",
      "Bwd Packet Length Std    0.00\n",
      "Bwd Packet Length Max    0.00\n",
      "Packet Length Std        0.00\n",
      "Packet Length Variance   0.00\n",
      "Bwd Packet Length Mean   0.00\n",
      "Avg Bwd Segment Size     0.00\n",
      "Packet Length Max        0.00\n",
      "Avg Packet Size          0.00\n",
      "Init Fwd Win Bytes       0.00\n",
      "Packet Length Mean       0.00\n",
      "Idle Std                 0.00\n",
      "ClassLabel               0.00\n",
      "dtype: float64\n"
     ]
    }
   ],
   "source": [
    "import pandas as pd\n",
    "pd.options.display.float_format = '{:.2f}'.format\n",
    "\n",
    "df = pd.read_parquet('data/preprocessed.parquet')\n",
    "numerical_df = df.select_dtypes(include=['number'])\n",
    "max_values = numerical_df.max()\n",
    "min_values = numerical_df.min()\n",
    "\n",
    "print(\"Largest values in numerical columns:\")\n",
    "print(max_values)\n",
    "\n",
    "print(\"\\nSmallest values in numerical columns:\")\n",
    "print(min_values)"
   ]
  }
 ],
 "metadata": {
  "kernelspec": {
   "display_name": "project-env",
   "language": "python",
   "name": "python3"
  },
  "language_info": {
   "codemirror_mode": {
    "name": "ipython",
    "version": 3
   },
   "file_extension": ".py",
   "mimetype": "text/x-python",
   "name": "python",
   "nbconvert_exporter": "python",
   "pygments_lexer": "ipython3",
   "version": "3.12.5"
  }
 },
 "nbformat": 4,
 "nbformat_minor": 2
}
