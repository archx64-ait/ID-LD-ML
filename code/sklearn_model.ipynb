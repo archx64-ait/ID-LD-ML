{
 "cells": [
  {
   "cell_type": "code",
   "execution_count": 1,
   "id": "initial_id",
   "metadata": {
    "ExecuteTime": {
     "end_time": "2024-11-28T08:57:23.389350Z",
     "start_time": "2024-11-28T08:57:23.317689Z"
    },
    "collapsed": true
   },
   "outputs": [],
   "source": [
    "import pandas as pd\n",
    "\n",
    "df = pd.read_parquet('data/preprocessed.parquet')"
   ]
  },
  {
   "cell_type": "code",
   "execution_count": 2,
   "id": "b7cf874c8fdb8537",
   "metadata": {
    "ExecuteTime": {
     "end_time": "2024-11-28T08:57:23.398813Z",
     "start_time": "2024-11-28T08:57:23.392348Z"
    }
   },
   "outputs": [
    {
     "data": {
      "text/plain": [
       "(4922564, 12)"
      ]
     },
     "execution_count": 2,
     "metadata": {},
     "output_type": "execute_result"
    }
   ],
   "source": [
    "df.shape"
   ]
  },
  {
   "cell_type": "code",
   "execution_count": 3,
   "id": "a2205ee722a5ea2d",
   "metadata": {
    "ExecuteTime": {
     "end_time": "2024-11-28T08:57:23.597277Z",
     "start_time": "2024-11-28T08:57:23.588918Z"
    }
   },
   "outputs": [
    {
     "data": {
      "text/html": [
       "<div>\n",
       "<style scoped>\n",
       "    .dataframe tbody tr th:only-of-type {\n",
       "        vertical-align: middle;\n",
       "    }\n",
       "\n",
       "    .dataframe tbody tr th {\n",
       "        vertical-align: top;\n",
       "    }\n",
       "\n",
       "    .dataframe thead th {\n",
       "        text-align: right;\n",
       "    }\n",
       "</style>\n",
       "<table border=\"1\" class=\"dataframe\">\n",
       "  <thead>\n",
       "    <tr style=\"text-align: right;\">\n",
       "      <th></th>\n",
       "      <th>Bwd Packet Length Std</th>\n",
       "      <th>Bwd Packet Length Max</th>\n",
       "      <th>Packet Length Std</th>\n",
       "      <th>Packet Length Variance</th>\n",
       "      <th>Bwd Packet Length Mean</th>\n",
       "      <th>Avg Bwd Segment Size</th>\n",
       "      <th>Packet Length Max</th>\n",
       "      <th>Avg Packet Size</th>\n",
       "      <th>Init Fwd Win Bytes</th>\n",
       "      <th>Packet Length Mean</th>\n",
       "      <th>Idle Std</th>\n",
       "      <th>ClassLabel</th>\n",
       "    </tr>\n",
       "  </thead>\n",
       "  <tbody>\n",
       "    <tr>\n",
       "      <th>0</th>\n",
       "      <td>119.511505</td>\n",
       "      <td>207.0</td>\n",
       "      <td>107.527443</td>\n",
       "      <td>11562.151367</td>\n",
       "      <td>103.5</td>\n",
       "      <td>103.5</td>\n",
       "      <td>233.0</td>\n",
       "      <td>81.636360</td>\n",
       "      <td>8192</td>\n",
       "      <td>74.833336</td>\n",
       "      <td>0.0</td>\n",
       "      <td>0</td>\n",
       "    </tr>\n",
       "    <tr>\n",
       "      <th>1</th>\n",
       "      <td>884.500610</td>\n",
       "      <td>1532.0</td>\n",
       "      <td>547.842529</td>\n",
       "      <td>300131.437500</td>\n",
       "      <td>766.0</td>\n",
       "      <td>766.0</td>\n",
       "      <td>1532.0</td>\n",
       "      <td>286.153839</td>\n",
       "      <td>8192</td>\n",
       "      <td>265.714294</td>\n",
       "      <td>0.0</td>\n",
       "      <td>0</td>\n",
       "    </tr>\n",
       "    <tr>\n",
       "      <th>2</th>\n",
       "      <td>782.347229</td>\n",
       "      <td>1518.0</td>\n",
       "      <td>684.968994</td>\n",
       "      <td>469182.531250</td>\n",
       "      <td>508.0</td>\n",
       "      <td>508.0</td>\n",
       "      <td>1552.0</td>\n",
       "      <td>412.133331</td>\n",
       "      <td>8192</td>\n",
       "      <td>386.375000</td>\n",
       "      <td>0.0</td>\n",
       "      <td>0</td>\n",
       "    </tr>\n",
       "    <tr>\n",
       "      <th>3</th>\n",
       "      <td>814.063904</td>\n",
       "      <td>1410.0</td>\n",
       "      <td>689.943359</td>\n",
       "      <td>476021.875000</td>\n",
       "      <td>705.0</td>\n",
       "      <td>705.0</td>\n",
       "      <td>1410.0</td>\n",
       "      <td>512.000000</td>\n",
       "      <td>8192</td>\n",
       "      <td>469.333344</td>\n",
       "      <td>0.0</td>\n",
       "      <td>0</td>\n",
       "    </tr>\n",
       "    <tr>\n",
       "      <th>4</th>\n",
       "      <td>0.000000</td>\n",
       "      <td>6.0</td>\n",
       "      <td>0.000000</td>\n",
       "      <td>0.000000</td>\n",
       "      <td>6.0</td>\n",
       "      <td>6.0</td>\n",
       "      <td>6.0</td>\n",
       "      <td>9.000000</td>\n",
       "      <td>2053</td>\n",
       "      <td>6.000000</td>\n",
       "      <td>0.0</td>\n",
       "      <td>0</td>\n",
       "    </tr>\n",
       "  </tbody>\n",
       "</table>\n",
       "</div>"
      ],
      "text/plain": [
       "   Bwd Packet Length Std  Bwd Packet Length Max  Packet Length Std  \\\n",
       "0             119.511505                  207.0         107.527443   \n",
       "1             884.500610                 1532.0         547.842529   \n",
       "2             782.347229                 1518.0         684.968994   \n",
       "3             814.063904                 1410.0         689.943359   \n",
       "4               0.000000                    6.0           0.000000   \n",
       "\n",
       "   Packet Length Variance  Bwd Packet Length Mean  Avg Bwd Segment Size  \\\n",
       "0            11562.151367                   103.5                 103.5   \n",
       "1           300131.437500                   766.0                 766.0   \n",
       "2           469182.531250                   508.0                 508.0   \n",
       "3           476021.875000                   705.0                 705.0   \n",
       "4                0.000000                     6.0                   6.0   \n",
       "\n",
       "   Packet Length Max  Avg Packet Size  Init Fwd Win Bytes  Packet Length Mean  \\\n",
       "0              233.0        81.636360                8192           74.833336   \n",
       "1             1532.0       286.153839                8192          265.714294   \n",
       "2             1552.0       412.133331                8192          386.375000   \n",
       "3             1410.0       512.000000                8192          469.333344   \n",
       "4                6.0         9.000000                2053            6.000000   \n",
       "\n",
       "   Idle Std  ClassLabel  \n",
       "0       0.0           0  \n",
       "1       0.0           0  \n",
       "2       0.0           0  \n",
       "3       0.0           0  \n",
       "4       0.0           0  "
      ]
     },
     "execution_count": 3,
     "metadata": {},
     "output_type": "execute_result"
    }
   ],
   "source": [
    "df.head()"
   ]
  },
  {
   "cell_type": "code",
   "execution_count": 4,
   "id": "41df456b6d48530f",
   "metadata": {
    "ExecuteTime": {
     "end_time": "2024-11-28T08:57:23.637314Z",
     "start_time": "2024-11-28T08:57:23.629486Z"
    }
   },
   "outputs": [
    {
     "data": {
      "text/plain": [
       "Bwd Packet Length Std     float32\n",
       "Bwd Packet Length Max     float64\n",
       "Packet Length Std         float32\n",
       "Packet Length Variance    float32\n",
       "Bwd Packet Length Mean    float32\n",
       "Avg Bwd Segment Size      float32\n",
       "Packet Length Max         float64\n",
       "Avg Packet Size           float32\n",
       "Init Fwd Win Bytes          int32\n",
       "Packet Length Mean        float32\n",
       "Idle Std                  float32\n",
       "ClassLabel                  int64\n",
       "dtype: object"
      ]
     },
     "execution_count": 4,
     "metadata": {},
     "output_type": "execute_result"
    }
   ],
   "source": [
    "df.dtypes"
   ]
  },
  {
   "cell_type": "code",
   "execution_count": 5,
   "id": "88e068f5d38b900",
   "metadata": {
    "ExecuteTime": {
     "end_time": "2024-11-28T08:57:23.784548Z",
     "start_time": "2024-11-28T08:57:23.676167Z"
    }
   },
   "outputs": [
    {
     "data": {
      "text/plain": [
       "(ClassLabel\n",
       " 0    4099806\n",
       " 3     575152\n",
       " 1     144448\n",
       " 2     103158\n",
       " Name: count, dtype: int64,\n",
       " np.int64(103158))"
      ]
     },
     "execution_count": 5,
     "metadata": {},
     "output_type": "execute_result"
    }
   ],
   "source": [
    "min_count = df['ClassLabel'].value_counts().min()\n",
    "df['ClassLabel'].value_counts(), min_count"
   ]
  },
  {
   "cell_type": "code",
   "execution_count": 6,
   "id": "24b4ba0a739d1ce2",
   "metadata": {
    "ExecuteTime": {
     "end_time": "2024-11-28T08:57:24.990110Z",
     "start_time": "2024-11-28T08:57:23.897439Z"
    }
   },
   "outputs": [
    {
     "data": {
      "text/plain": [
       "((3445794, 11), (1476770, 11), (3445794,), (1476770,))"
      ]
     },
     "execution_count": 6,
     "metadata": {},
     "output_type": "execute_result"
    }
   ],
   "source": [
    "from sklearn.model_selection import train_test_split\n",
    "\n",
    "X = df.drop(columns=['ClassLabel'], axis=1)\n",
    "y = df['ClassLabel']\n",
    "X_train, X_test, y_train, y_test = train_test_split(X, y, test_size=0.3, random_state=69)\n",
    "X_train.shape, X_test.shape, y_train.shape, y_test.shape"
   ]
  },
  {
   "cell_type": "code",
   "execution_count": 7,
   "id": "b612e727a5f98edb",
   "metadata": {
    "ExecuteTime": {
     "end_time": "2024-11-28T08:57:25.073165Z",
     "start_time": "2024-11-28T08:57:25.068384Z"
    }
   },
   "outputs": [
    {
     "data": {
      "text/plain": [
       "(pandas.core.frame.DataFrame,\n",
       " pandas.core.frame.DataFrame,\n",
       " pandas.core.series.Series,\n",
       " pandas.core.series.Series)"
      ]
     },
     "execution_count": 7,
     "metadata": {},
     "output_type": "execute_result"
    }
   ],
   "source": [
    "type(X_train), type(X_test), type(y_train), type(y_test)"
   ]
  },
  {
   "cell_type": "code",
   "execution_count": 8,
   "id": "347890433799567c",
   "metadata": {
    "ExecuteTime": {
     "end_time": "2024-11-28T08:57:25.092083Z",
     "start_time": "2024-11-28T08:57:25.087131Z"
    }
   },
   "outputs": [
    {
     "data": {
      "text/plain": [
       "['Bwd Packet Length Std',\n",
       " 'Bwd Packet Length Max',\n",
       " 'Packet Length Std',\n",
       " 'Packet Length Variance',\n",
       " 'Bwd Packet Length Mean',\n",
       " 'Avg Bwd Segment Size',\n",
       " 'Packet Length Max',\n",
       " 'Avg Packet Size',\n",
       " 'Init Fwd Win Bytes',\n",
       " 'Packet Length Mean',\n",
       " 'Idle Std']"
      ]
     },
     "execution_count": 8,
     "metadata": {},
     "output_type": "execute_result"
    }
   ],
   "source": [
    "numerical_cols = X.select_dtypes(include='number').columns.tolist()\n",
    "numerical_cols"
   ]
  },
  {
   "cell_type": "code",
   "execution_count": 9,
   "id": "1833d4a895690db9",
   "metadata": {
    "ExecuteTime": {
     "end_time": "2024-11-28T08:57:25.513740Z",
     "start_time": "2024-11-28T08:57:25.139957Z"
    }
   },
   "outputs": [],
   "source": [
    "from imblearn.under_sampling import RandomUnderSampler\n",
    "from imblearn.pipeline import Pipeline as ImbPipeline\n",
    "from sklearn.pipeline import Pipeline as SciPipeline\n",
    "from sklearn.preprocessing import MinMaxScaler\n",
    "from sklearn.compose import ColumnTransformer\n",
    "from sklearn.naive_bayes import GaussianNB\n",
    "from lightgbm import LGBMClassifier\n",
    "from xgboost import XGBClassifier\n",
    "from sklearn.ensemble import RandomForestClassifier\n",
    "import os\n",
    "\n",
    "allocated_cpus = os.cpu_count() // 2\n",
    "\n",
    "scaling_transformer = SciPipeline(\n",
    "    steps=[(\"scaler\", MinMaxScaler(feature_range=(0, 1)))]\n",
    ")\n",
    "\n",
    "preprocessor = ColumnTransformer(\n",
    "    transformers=[\n",
    "        (\"scaling_transformer\", scaling_transformer, numerical_cols),\n",
    "    ],\n",
    "    remainder=\"passthrough\",  # ensures other columns, if any, are not dropped\n",
    ")\n",
    "\n",
    "pipeline = ImbPipeline(\n",
    "    [\n",
    "        (\"preprocessor\", preprocessor),\n",
    "        (\"under\", RandomUnderSampler(random_state=69, sampling_strategy=\"majority\")),\n",
    "        (\"classifier\", GaussianNB()),\n",
    "    ]\n",
    ")\n",
    "\n",
    "# Define parameter grid for GridSearchCV\n",
    "param_grid = [\n",
    "    {\n",
    "        \"classifier\": [\n",
    "            LGBMClassifier(\n",
    "                n_jobs=allocated_cpus,\n",
    "            )\n",
    "        ],\n",
    "        \"classifier__num_leaves\": [25, 50],\n",
    "        \"classifier__n_estimators\": [25, 50],\n",
    "        \"classifier__learning_rate\": [0.1, 0.01],\n",
    "    },\n",
    "    {\n",
    "        \"classifier\": [XGBClassifier(n_jobs=allocated_cpus)],\n",
    "        \"classifier__max_depth\": [3, 6],\n",
    "        \"classifier__n_estimators\": [25, 50],\n",
    "        \"classifier__learning_rate\": [0.1, 0.01],\n",
    "    },\n",
    "    {\"classifier\": [GaussianNB()]},\n",
    "]"
   ]
  },
  {
   "cell_type": "code",
   "execution_count": 10,
   "id": "8a4e5cb5613aa987",
   "metadata": {
    "ExecuteTime": {
     "end_time": "2024-11-28T08:57:26.120828Z",
     "start_time": "2024-11-28T08:57:25.518729Z"
    }
   },
   "outputs": [
    {
     "name": "stdout",
     "output_type": "stream",
     "text": [
      "Counter({0: 2870057, 3: 402453, 1: 101200, 2: 72084})\n"
     ]
    }
   ],
   "source": [
    "from collections import Counter\n",
    "\n",
    "class_counts = Counter(y_train)\n",
    "\n",
    "print(class_counts)"
   ]
  },
  {
   "cell_type": "code",
   "execution_count": 11,
   "id": "82883cba012d4526",
   "metadata": {
    "ExecuteTime": {
     "end_time": "2024-11-28T08:57:35.417285Z",
     "start_time": "2024-11-28T08:57:26.190800Z"
    }
   },
   "outputs": [
    {
     "name": "stdout",
     "output_type": "stream",
     "text": [
      "Fitting 3 folds for each of 17 candidates, totalling 51 fits\n"
     ]
    },
    {
     "name": "stderr",
     "output_type": "stream",
     "text": [
      "c:\\Users\\neucl\\Dev\\AIT\\CP_Projects\\ID-LD-ML\\project-env\\Lib\\site-packages\\numpy\\ma\\core.py:2881: RuntimeWarning: invalid value encountered in cast\n",
      "  _data = np.array(data, dtype=dtype, copy=copy,\n"
     ]
    },
    {
     "name": "stdout",
     "output_type": "stream",
     "text": [
      "[LightGBM] [Info] Auto-choosing row-wise multi-threading, the overhead of testing was 0.007388 seconds.\n",
      "You can set `force_row_wise=true` to remove the overhead.\n",
      "And if memory is not enough, you can set `force_col_wise=true`.\n",
      "[LightGBM] [Info] Total Bins 2464\n",
      "[LightGBM] [Info] Number of data points in the train set: 647821, number of used features: 11\n",
      "[LightGBM] [Info] Start training from score -2.195782\n",
      "[LightGBM] [Info] Start training from score -1.856516\n",
      "[LightGBM] [Info] Start training from score -2.195782\n",
      "[LightGBM] [Info] Start training from score -0.476036\n",
      "Best parameters found:  {'classifier': LGBMClassifier(n_jobs=6), 'classifier__learning_rate': 0.1, 'classifier__n_estimators': 50, 'classifier__num_leaves': 25}\n"
     ]
    },
    {
     "data": {
      "text/html": [
       "<style>#sk-container-id-1 {\n",
       "  /* Definition of color scheme common for light and dark mode */\n",
       "  --sklearn-color-text: black;\n",
       "  --sklearn-color-line: gray;\n",
       "  /* Definition of color scheme for unfitted estimators */\n",
       "  --sklearn-color-unfitted-level-0: #fff5e6;\n",
       "  --sklearn-color-unfitted-level-1: #f6e4d2;\n",
       "  --sklearn-color-unfitted-level-2: #ffe0b3;\n",
       "  --sklearn-color-unfitted-level-3: chocolate;\n",
       "  /* Definition of color scheme for fitted estimators */\n",
       "  --sklearn-color-fitted-level-0: #f0f8ff;\n",
       "  --sklearn-color-fitted-level-1: #d4ebff;\n",
       "  --sklearn-color-fitted-level-2: #b3dbfd;\n",
       "  --sklearn-color-fitted-level-3: cornflowerblue;\n",
       "\n",
       "  /* Specific color for light theme */\n",
       "  --sklearn-color-text-on-default-background: var(--sg-text-color, var(--theme-code-foreground, var(--jp-content-font-color1, black)));\n",
       "  --sklearn-color-background: var(--sg-background-color, var(--theme-background, var(--jp-layout-color0, white)));\n",
       "  --sklearn-color-border-box: var(--sg-text-color, var(--theme-code-foreground, var(--jp-content-font-color1, black)));\n",
       "  --sklearn-color-icon: #696969;\n",
       "\n",
       "  @media (prefers-color-scheme: dark) {\n",
       "    /* Redefinition of color scheme for dark theme */\n",
       "    --sklearn-color-text-on-default-background: var(--sg-text-color, var(--theme-code-foreground, var(--jp-content-font-color1, white)));\n",
       "    --sklearn-color-background: var(--sg-background-color, var(--theme-background, var(--jp-layout-color0, #111)));\n",
       "    --sklearn-color-border-box: var(--sg-text-color, var(--theme-code-foreground, var(--jp-content-font-color1, white)));\n",
       "    --sklearn-color-icon: #878787;\n",
       "  }\n",
       "}\n",
       "\n",
       "#sk-container-id-1 {\n",
       "  color: var(--sklearn-color-text);\n",
       "}\n",
       "\n",
       "#sk-container-id-1 pre {\n",
       "  padding: 0;\n",
       "}\n",
       "\n",
       "#sk-container-id-1 input.sk-hidden--visually {\n",
       "  border: 0;\n",
       "  clip: rect(1px 1px 1px 1px);\n",
       "  clip: rect(1px, 1px, 1px, 1px);\n",
       "  height: 1px;\n",
       "  margin: -1px;\n",
       "  overflow: hidden;\n",
       "  padding: 0;\n",
       "  position: absolute;\n",
       "  width: 1px;\n",
       "}\n",
       "\n",
       "#sk-container-id-1 div.sk-dashed-wrapped {\n",
       "  border: 1px dashed var(--sklearn-color-line);\n",
       "  margin: 0 0.4em 0.5em 0.4em;\n",
       "  box-sizing: border-box;\n",
       "  padding-bottom: 0.4em;\n",
       "  background-color: var(--sklearn-color-background);\n",
       "}\n",
       "\n",
       "#sk-container-id-1 div.sk-container {\n",
       "  /* jupyter's `normalize.less` sets `[hidden] { display: none; }`\n",
       "     but bootstrap.min.css set `[hidden] { display: none !important; }`\n",
       "     so we also need the `!important` here to be able to override the\n",
       "     default hidden behavior on the sphinx rendered scikit-learn.org.\n",
       "     See: https://github.com/scikit-learn/scikit-learn/issues/21755 */\n",
       "  display: inline-block !important;\n",
       "  position: relative;\n",
       "}\n",
       "\n",
       "#sk-container-id-1 div.sk-text-repr-fallback {\n",
       "  display: none;\n",
       "}\n",
       "\n",
       "div.sk-parallel-item,\n",
       "div.sk-serial,\n",
       "div.sk-item {\n",
       "  /* draw centered vertical line to link estimators */\n",
       "  background-image: linear-gradient(var(--sklearn-color-text-on-default-background), var(--sklearn-color-text-on-default-background));\n",
       "  background-size: 2px 100%;\n",
       "  background-repeat: no-repeat;\n",
       "  background-position: center center;\n",
       "}\n",
       "\n",
       "/* Parallel-specific style estimator block */\n",
       "\n",
       "#sk-container-id-1 div.sk-parallel-item::after {\n",
       "  content: \"\";\n",
       "  width: 100%;\n",
       "  border-bottom: 2px solid var(--sklearn-color-text-on-default-background);\n",
       "  flex-grow: 1;\n",
       "}\n",
       "\n",
       "#sk-container-id-1 div.sk-parallel {\n",
       "  display: flex;\n",
       "  align-items: stretch;\n",
       "  justify-content: center;\n",
       "  background-color: var(--sklearn-color-background);\n",
       "  position: relative;\n",
       "}\n",
       "\n",
       "#sk-container-id-1 div.sk-parallel-item {\n",
       "  display: flex;\n",
       "  flex-direction: column;\n",
       "}\n",
       "\n",
       "#sk-container-id-1 div.sk-parallel-item:first-child::after {\n",
       "  align-self: flex-end;\n",
       "  width: 50%;\n",
       "}\n",
       "\n",
       "#sk-container-id-1 div.sk-parallel-item:last-child::after {\n",
       "  align-self: flex-start;\n",
       "  width: 50%;\n",
       "}\n",
       "\n",
       "#sk-container-id-1 div.sk-parallel-item:only-child::after {\n",
       "  width: 0;\n",
       "}\n",
       "\n",
       "/* Serial-specific style estimator block */\n",
       "\n",
       "#sk-container-id-1 div.sk-serial {\n",
       "  display: flex;\n",
       "  flex-direction: column;\n",
       "  align-items: center;\n",
       "  background-color: var(--sklearn-color-background);\n",
       "  padding-right: 1em;\n",
       "  padding-left: 1em;\n",
       "}\n",
       "\n",
       "\n",
       "/* Toggleable style: style used for estimator/Pipeline/ColumnTransformer box that is\n",
       "clickable and can be expanded/collapsed.\n",
       "- Pipeline and ColumnTransformer use this feature and define the default style\n",
       "- Estimators will overwrite some part of the style using the `sk-estimator` class\n",
       "*/\n",
       "\n",
       "/* Pipeline and ColumnTransformer style (default) */\n",
       "\n",
       "#sk-container-id-1 div.sk-toggleable {\n",
       "  /* Default theme specific background. It is overwritten whether we have a\n",
       "  specific estimator or a Pipeline/ColumnTransformer */\n",
       "  background-color: var(--sklearn-color-background);\n",
       "}\n",
       "\n",
       "/* Toggleable label */\n",
       "#sk-container-id-1 label.sk-toggleable__label {\n",
       "  cursor: pointer;\n",
       "  display: block;\n",
       "  width: 100%;\n",
       "  margin-bottom: 0;\n",
       "  padding: 0.5em;\n",
       "  box-sizing: border-box;\n",
       "  text-align: center;\n",
       "}\n",
       "\n",
       "#sk-container-id-1 label.sk-toggleable__label-arrow:before {\n",
       "  /* Arrow on the left of the label */\n",
       "  content: \"▸\";\n",
       "  float: left;\n",
       "  margin-right: 0.25em;\n",
       "  color: var(--sklearn-color-icon);\n",
       "}\n",
       "\n",
       "#sk-container-id-1 label.sk-toggleable__label-arrow:hover:before {\n",
       "  color: var(--sklearn-color-text);\n",
       "}\n",
       "\n",
       "/* Toggleable content - dropdown */\n",
       "\n",
       "#sk-container-id-1 div.sk-toggleable__content {\n",
       "  max-height: 0;\n",
       "  max-width: 0;\n",
       "  overflow: hidden;\n",
       "  text-align: left;\n",
       "  /* unfitted */\n",
       "  background-color: var(--sklearn-color-unfitted-level-0);\n",
       "}\n",
       "\n",
       "#sk-container-id-1 div.sk-toggleable__content.fitted {\n",
       "  /* fitted */\n",
       "  background-color: var(--sklearn-color-fitted-level-0);\n",
       "}\n",
       "\n",
       "#sk-container-id-1 div.sk-toggleable__content pre {\n",
       "  margin: 0.2em;\n",
       "  border-radius: 0.25em;\n",
       "  color: var(--sklearn-color-text);\n",
       "  /* unfitted */\n",
       "  background-color: var(--sklearn-color-unfitted-level-0);\n",
       "}\n",
       "\n",
       "#sk-container-id-1 div.sk-toggleable__content.fitted pre {\n",
       "  /* unfitted */\n",
       "  background-color: var(--sklearn-color-fitted-level-0);\n",
       "}\n",
       "\n",
       "#sk-container-id-1 input.sk-toggleable__control:checked~div.sk-toggleable__content {\n",
       "  /* Expand drop-down */\n",
       "  max-height: 200px;\n",
       "  max-width: 100%;\n",
       "  overflow: auto;\n",
       "}\n",
       "\n",
       "#sk-container-id-1 input.sk-toggleable__control:checked~label.sk-toggleable__label-arrow:before {\n",
       "  content: \"▾\";\n",
       "}\n",
       "\n",
       "/* Pipeline/ColumnTransformer-specific style */\n",
       "\n",
       "#sk-container-id-1 div.sk-label input.sk-toggleable__control:checked~label.sk-toggleable__label {\n",
       "  color: var(--sklearn-color-text);\n",
       "  background-color: var(--sklearn-color-unfitted-level-2);\n",
       "}\n",
       "\n",
       "#sk-container-id-1 div.sk-label.fitted input.sk-toggleable__control:checked~label.sk-toggleable__label {\n",
       "  background-color: var(--sklearn-color-fitted-level-2);\n",
       "}\n",
       "\n",
       "/* Estimator-specific style */\n",
       "\n",
       "/* Colorize estimator box */\n",
       "#sk-container-id-1 div.sk-estimator input.sk-toggleable__control:checked~label.sk-toggleable__label {\n",
       "  /* unfitted */\n",
       "  background-color: var(--sklearn-color-unfitted-level-2);\n",
       "}\n",
       "\n",
       "#sk-container-id-1 div.sk-estimator.fitted input.sk-toggleable__control:checked~label.sk-toggleable__label {\n",
       "  /* fitted */\n",
       "  background-color: var(--sklearn-color-fitted-level-2);\n",
       "}\n",
       "\n",
       "#sk-container-id-1 div.sk-label label.sk-toggleable__label,\n",
       "#sk-container-id-1 div.sk-label label {\n",
       "  /* The background is the default theme color */\n",
       "  color: var(--sklearn-color-text-on-default-background);\n",
       "}\n",
       "\n",
       "/* On hover, darken the color of the background */\n",
       "#sk-container-id-1 div.sk-label:hover label.sk-toggleable__label {\n",
       "  color: var(--sklearn-color-text);\n",
       "  background-color: var(--sklearn-color-unfitted-level-2);\n",
       "}\n",
       "\n",
       "/* Label box, darken color on hover, fitted */\n",
       "#sk-container-id-1 div.sk-label.fitted:hover label.sk-toggleable__label.fitted {\n",
       "  color: var(--sklearn-color-text);\n",
       "  background-color: var(--sklearn-color-fitted-level-2);\n",
       "}\n",
       "\n",
       "/* Estimator label */\n",
       "\n",
       "#sk-container-id-1 div.sk-label label {\n",
       "  font-family: monospace;\n",
       "  font-weight: bold;\n",
       "  display: inline-block;\n",
       "  line-height: 1.2em;\n",
       "}\n",
       "\n",
       "#sk-container-id-1 div.sk-label-container {\n",
       "  text-align: center;\n",
       "}\n",
       "\n",
       "/* Estimator-specific */\n",
       "#sk-container-id-1 div.sk-estimator {\n",
       "  font-family: monospace;\n",
       "  border: 1px dotted var(--sklearn-color-border-box);\n",
       "  border-radius: 0.25em;\n",
       "  box-sizing: border-box;\n",
       "  margin-bottom: 0.5em;\n",
       "  /* unfitted */\n",
       "  background-color: var(--sklearn-color-unfitted-level-0);\n",
       "}\n",
       "\n",
       "#sk-container-id-1 div.sk-estimator.fitted {\n",
       "  /* fitted */\n",
       "  background-color: var(--sklearn-color-fitted-level-0);\n",
       "}\n",
       "\n",
       "/* on hover */\n",
       "#sk-container-id-1 div.sk-estimator:hover {\n",
       "  /* unfitted */\n",
       "  background-color: var(--sklearn-color-unfitted-level-2);\n",
       "}\n",
       "\n",
       "#sk-container-id-1 div.sk-estimator.fitted:hover {\n",
       "  /* fitted */\n",
       "  background-color: var(--sklearn-color-fitted-level-2);\n",
       "}\n",
       "\n",
       "/* Specification for estimator info (e.g. \"i\" and \"?\") */\n",
       "\n",
       "/* Common style for \"i\" and \"?\" */\n",
       "\n",
       ".sk-estimator-doc-link,\n",
       "a:link.sk-estimator-doc-link,\n",
       "a:visited.sk-estimator-doc-link {\n",
       "  float: right;\n",
       "  font-size: smaller;\n",
       "  line-height: 1em;\n",
       "  font-family: monospace;\n",
       "  background-color: var(--sklearn-color-background);\n",
       "  border-radius: 1em;\n",
       "  height: 1em;\n",
       "  width: 1em;\n",
       "  text-decoration: none !important;\n",
       "  margin-left: 1ex;\n",
       "  /* unfitted */\n",
       "  border: var(--sklearn-color-unfitted-level-1) 1pt solid;\n",
       "  color: var(--sklearn-color-unfitted-level-1);\n",
       "}\n",
       "\n",
       ".sk-estimator-doc-link.fitted,\n",
       "a:link.sk-estimator-doc-link.fitted,\n",
       "a:visited.sk-estimator-doc-link.fitted {\n",
       "  /* fitted */\n",
       "  border: var(--sklearn-color-fitted-level-1) 1pt solid;\n",
       "  color: var(--sklearn-color-fitted-level-1);\n",
       "}\n",
       "\n",
       "/* On hover */\n",
       "div.sk-estimator:hover .sk-estimator-doc-link:hover,\n",
       ".sk-estimator-doc-link:hover,\n",
       "div.sk-label-container:hover .sk-estimator-doc-link:hover,\n",
       ".sk-estimator-doc-link:hover {\n",
       "  /* unfitted */\n",
       "  background-color: var(--sklearn-color-unfitted-level-3);\n",
       "  color: var(--sklearn-color-background);\n",
       "  text-decoration: none;\n",
       "}\n",
       "\n",
       "div.sk-estimator.fitted:hover .sk-estimator-doc-link.fitted:hover,\n",
       ".sk-estimator-doc-link.fitted:hover,\n",
       "div.sk-label-container:hover .sk-estimator-doc-link.fitted:hover,\n",
       ".sk-estimator-doc-link.fitted:hover {\n",
       "  /* fitted */\n",
       "  background-color: var(--sklearn-color-fitted-level-3);\n",
       "  color: var(--sklearn-color-background);\n",
       "  text-decoration: none;\n",
       "}\n",
       "\n",
       "/* Span, style for the box shown on hovering the info icon */\n",
       ".sk-estimator-doc-link span {\n",
       "  display: none;\n",
       "  z-index: 9999;\n",
       "  position: relative;\n",
       "  font-weight: normal;\n",
       "  right: .2ex;\n",
       "  padding: .5ex;\n",
       "  margin: .5ex;\n",
       "  width: min-content;\n",
       "  min-width: 20ex;\n",
       "  max-width: 50ex;\n",
       "  color: var(--sklearn-color-text);\n",
       "  box-shadow: 2pt 2pt 4pt #999;\n",
       "  /* unfitted */\n",
       "  background: var(--sklearn-color-unfitted-level-0);\n",
       "  border: .5pt solid var(--sklearn-color-unfitted-level-3);\n",
       "}\n",
       "\n",
       ".sk-estimator-doc-link.fitted span {\n",
       "  /* fitted */\n",
       "  background: var(--sklearn-color-fitted-level-0);\n",
       "  border: var(--sklearn-color-fitted-level-3);\n",
       "}\n",
       "\n",
       ".sk-estimator-doc-link:hover span {\n",
       "  display: block;\n",
       "}\n",
       "\n",
       "/* \"?\"-specific style due to the `<a>` HTML tag */\n",
       "\n",
       "#sk-container-id-1 a.estimator_doc_link {\n",
       "  float: right;\n",
       "  font-size: 1rem;\n",
       "  line-height: 1em;\n",
       "  font-family: monospace;\n",
       "  background-color: var(--sklearn-color-background);\n",
       "  border-radius: 1rem;\n",
       "  height: 1rem;\n",
       "  width: 1rem;\n",
       "  text-decoration: none;\n",
       "  /* unfitted */\n",
       "  color: var(--sklearn-color-unfitted-level-1);\n",
       "  border: var(--sklearn-color-unfitted-level-1) 1pt solid;\n",
       "}\n",
       "\n",
       "#sk-container-id-1 a.estimator_doc_link.fitted {\n",
       "  /* fitted */\n",
       "  border: var(--sklearn-color-fitted-level-1) 1pt solid;\n",
       "  color: var(--sklearn-color-fitted-level-1);\n",
       "}\n",
       "\n",
       "/* On hover */\n",
       "#sk-container-id-1 a.estimator_doc_link:hover {\n",
       "  /* unfitted */\n",
       "  background-color: var(--sklearn-color-unfitted-level-3);\n",
       "  color: var(--sklearn-color-background);\n",
       "  text-decoration: none;\n",
       "}\n",
       "\n",
       "#sk-container-id-1 a.estimator_doc_link.fitted:hover {\n",
       "  /* fitted */\n",
       "  background-color: var(--sklearn-color-fitted-level-3);\n",
       "}\n",
       "</style><div id=\"sk-container-id-1\" class=\"sk-top-container\"><div class=\"sk-text-repr-fallback\"><pre>Pipeline(steps=[(&#x27;preprocessor&#x27;,\n",
       "                 ColumnTransformer(remainder=&#x27;passthrough&#x27;,\n",
       "                                   transformers=[(&#x27;scaling_transformer&#x27;,\n",
       "                                                  Pipeline(steps=[(&#x27;scaler&#x27;,\n",
       "                                                                   MinMaxScaler())]),\n",
       "                                                  [&#x27;Bwd Packet Length Std&#x27;,\n",
       "                                                   &#x27;Bwd Packet Length Max&#x27;,\n",
       "                                                   &#x27;Packet Length Std&#x27;,\n",
       "                                                   &#x27;Packet Length Variance&#x27;,\n",
       "                                                   &#x27;Bwd Packet Length Mean&#x27;,\n",
       "                                                   &#x27;Avg Bwd Segment Size&#x27;,\n",
       "                                                   &#x27;Packet Length Max&#x27;,\n",
       "                                                   &#x27;Avg Packet Size&#x27;,\n",
       "                                                   &#x27;Init Fwd Win Bytes&#x27;,\n",
       "                                                   &#x27;Packet Length Mean&#x27;,\n",
       "                                                   &#x27;Idle Std&#x27;])])),\n",
       "                (&#x27;under&#x27;,\n",
       "                 RandomUnderSampler(random_state=69,\n",
       "                                    sampling_strategy=&#x27;majority&#x27;)),\n",
       "                (&#x27;classifier&#x27;,\n",
       "                 LGBMClassifier(n_estimators=50, n_jobs=6, num_leaves=25))])</pre><b>In a Jupyter environment, please rerun this cell to show the HTML representation or trust the notebook. <br />On GitHub, the HTML representation is unable to render, please try loading this page with nbviewer.org.</b></div><div class=\"sk-container\" hidden><div class=\"sk-item sk-dashed-wrapped\"><div class=\"sk-label-container\"><div class=\"sk-label fitted sk-toggleable\"><input class=\"sk-toggleable__control sk-hidden--visually\" id=\"sk-estimator-id-1\" type=\"checkbox\" ><label for=\"sk-estimator-id-1\" class=\"sk-toggleable__label fitted sk-toggleable__label-arrow fitted\">&nbsp;Pipeline<span class=\"sk-estimator-doc-link fitted\">i<span>Fitted</span></span></label><div class=\"sk-toggleable__content fitted\"><pre>Pipeline(steps=[(&#x27;preprocessor&#x27;,\n",
       "                 ColumnTransformer(remainder=&#x27;passthrough&#x27;,\n",
       "                                   transformers=[(&#x27;scaling_transformer&#x27;,\n",
       "                                                  Pipeline(steps=[(&#x27;scaler&#x27;,\n",
       "                                                                   MinMaxScaler())]),\n",
       "                                                  [&#x27;Bwd Packet Length Std&#x27;,\n",
       "                                                   &#x27;Bwd Packet Length Max&#x27;,\n",
       "                                                   &#x27;Packet Length Std&#x27;,\n",
       "                                                   &#x27;Packet Length Variance&#x27;,\n",
       "                                                   &#x27;Bwd Packet Length Mean&#x27;,\n",
       "                                                   &#x27;Avg Bwd Segment Size&#x27;,\n",
       "                                                   &#x27;Packet Length Max&#x27;,\n",
       "                                                   &#x27;Avg Packet Size&#x27;,\n",
       "                                                   &#x27;Init Fwd Win Bytes&#x27;,\n",
       "                                                   &#x27;Packet Length Mean&#x27;,\n",
       "                                                   &#x27;Idle Std&#x27;])])),\n",
       "                (&#x27;under&#x27;,\n",
       "                 RandomUnderSampler(random_state=69,\n",
       "                                    sampling_strategy=&#x27;majority&#x27;)),\n",
       "                (&#x27;classifier&#x27;,\n",
       "                 LGBMClassifier(n_estimators=50, n_jobs=6, num_leaves=25))])</pre></div> </div></div><div class=\"sk-serial\"><div class=\"sk-item sk-dashed-wrapped\"><div class=\"sk-label-container\"><div class=\"sk-label fitted sk-toggleable\"><input class=\"sk-toggleable__control sk-hidden--visually\" id=\"sk-estimator-id-2\" type=\"checkbox\" ><label for=\"sk-estimator-id-2\" class=\"sk-toggleable__label fitted sk-toggleable__label-arrow fitted\">&nbsp;preprocessor: ColumnTransformer<a class=\"sk-estimator-doc-link fitted\" rel=\"noreferrer\" target=\"_blank\" href=\"https://scikit-learn.org/1.5/modules/generated/sklearn.compose.ColumnTransformer.html\">?<span>Documentation for preprocessor: ColumnTransformer</span></a></label><div class=\"sk-toggleable__content fitted\"><pre>ColumnTransformer(remainder=&#x27;passthrough&#x27;,\n",
       "                  transformers=[(&#x27;scaling_transformer&#x27;,\n",
       "                                 Pipeline(steps=[(&#x27;scaler&#x27;, MinMaxScaler())]),\n",
       "                                 [&#x27;Bwd Packet Length Std&#x27;,\n",
       "                                  &#x27;Bwd Packet Length Max&#x27;, &#x27;Packet Length Std&#x27;,\n",
       "                                  &#x27;Packet Length Variance&#x27;,\n",
       "                                  &#x27;Bwd Packet Length Mean&#x27;,\n",
       "                                  &#x27;Avg Bwd Segment Size&#x27;, &#x27;Packet Length Max&#x27;,\n",
       "                                  &#x27;Avg Packet Size&#x27;, &#x27;Init Fwd Win Bytes&#x27;,\n",
       "                                  &#x27;Packet Length Mean&#x27;, &#x27;Idle Std&#x27;])])</pre></div> </div></div><div class=\"sk-parallel\"><div class=\"sk-parallel-item\"><div class=\"sk-item\"><div class=\"sk-label-container\"><div class=\"sk-label fitted sk-toggleable\"><input class=\"sk-toggleable__control sk-hidden--visually\" id=\"sk-estimator-id-3\" type=\"checkbox\" ><label for=\"sk-estimator-id-3\" class=\"sk-toggleable__label fitted sk-toggleable__label-arrow fitted\">scaling_transformer</label><div class=\"sk-toggleable__content fitted\"><pre>[&#x27;Bwd Packet Length Std&#x27;, &#x27;Bwd Packet Length Max&#x27;, &#x27;Packet Length Std&#x27;, &#x27;Packet Length Variance&#x27;, &#x27;Bwd Packet Length Mean&#x27;, &#x27;Avg Bwd Segment Size&#x27;, &#x27;Packet Length Max&#x27;, &#x27;Avg Packet Size&#x27;, &#x27;Init Fwd Win Bytes&#x27;, &#x27;Packet Length Mean&#x27;, &#x27;Idle Std&#x27;]</pre></div> </div></div><div class=\"sk-serial\"><div class=\"sk-item\"><div class=\"sk-serial\"><div class=\"sk-item\"><div class=\"sk-estimator fitted sk-toggleable\"><input class=\"sk-toggleable__control sk-hidden--visually\" id=\"sk-estimator-id-4\" type=\"checkbox\" ><label for=\"sk-estimator-id-4\" class=\"sk-toggleable__label fitted sk-toggleable__label-arrow fitted\">&nbsp;MinMaxScaler<a class=\"sk-estimator-doc-link fitted\" rel=\"noreferrer\" target=\"_blank\" href=\"https://scikit-learn.org/1.5/modules/generated/sklearn.preprocessing.MinMaxScaler.html\">?<span>Documentation for MinMaxScaler</span></a></label><div class=\"sk-toggleable__content fitted\"><pre>MinMaxScaler()</pre></div> </div></div></div></div></div></div></div><div class=\"sk-parallel-item\"><div class=\"sk-item\"><div class=\"sk-label-container\"><div class=\"sk-label fitted sk-toggleable\"><input class=\"sk-toggleable__control sk-hidden--visually\" id=\"sk-estimator-id-5\" type=\"checkbox\" ><label for=\"sk-estimator-id-5\" class=\"sk-toggleable__label fitted sk-toggleable__label-arrow fitted\">remainder</label><div class=\"sk-toggleable__content fitted\"><pre>[]</pre></div> </div></div><div class=\"sk-serial\"><div class=\"sk-item\"><div class=\"sk-estimator fitted sk-toggleable\"><input class=\"sk-toggleable__control sk-hidden--visually\" id=\"sk-estimator-id-6\" type=\"checkbox\" ><label for=\"sk-estimator-id-6\" class=\"sk-toggleable__label fitted sk-toggleable__label-arrow fitted\">passthrough</label><div class=\"sk-toggleable__content fitted\"><pre>passthrough</pre></div> </div></div></div></div></div></div></div><div class=\"sk-item\"><div class=\"sk-estimator fitted sk-toggleable\"><input class=\"sk-toggleable__control sk-hidden--visually\" id=\"sk-estimator-id-7\" type=\"checkbox\" ><label for=\"sk-estimator-id-7\" class=\"sk-toggleable__label fitted sk-toggleable__label-arrow fitted\">RandomUnderSampler</label><div class=\"sk-toggleable__content fitted\"><pre>RandomUnderSampler(random_state=69, sampling_strategy=&#x27;majority&#x27;)</pre></div> </div></div><div class=\"sk-item\"><div class=\"sk-estimator fitted sk-toggleable\"><input class=\"sk-toggleable__control sk-hidden--visually\" id=\"sk-estimator-id-8\" type=\"checkbox\" ><label for=\"sk-estimator-id-8\" class=\"sk-toggleable__label fitted sk-toggleable__label-arrow fitted\">LGBMClassifier</label><div class=\"sk-toggleable__content fitted\"><pre>LGBMClassifier(n_estimators=50, n_jobs=6, num_leaves=25)</pre></div> </div></div></div></div></div></div>"
      ],
      "text/plain": [
       "Pipeline(steps=[('preprocessor',\n",
       "                 ColumnTransformer(remainder='passthrough',\n",
       "                                   transformers=[('scaling_transformer',\n",
       "                                                  Pipeline(steps=[('scaler',\n",
       "                                                                   MinMaxScaler())]),\n",
       "                                                  ['Bwd Packet Length Std',\n",
       "                                                   'Bwd Packet Length Max',\n",
       "                                                   'Packet Length Std',\n",
       "                                                   'Packet Length Variance',\n",
       "                                                   'Bwd Packet Length Mean',\n",
       "                                                   'Avg Bwd Segment Size',\n",
       "                                                   'Packet Length Max',\n",
       "                                                   'Avg Packet Size',\n",
       "                                                   'Init Fwd Win Bytes',\n",
       "                                                   'Packet Length Mean',\n",
       "                                                   'Idle Std'])])),\n",
       "                ('under',\n",
       "                 RandomUnderSampler(random_state=69,\n",
       "                                    sampling_strategy='majority')),\n",
       "                ('classifier',\n",
       "                 LGBMClassifier(n_estimators=50, n_jobs=6, num_leaves=25))])"
      ]
     },
     "execution_count": 11,
     "metadata": {},
     "output_type": "execute_result"
    }
   ],
   "source": [
    "from sklearn.model_selection import GridSearchCV, StratifiedKFold\n",
    "kf = StratifiedKFold(n_splits=3, random_state=69, shuffle=True)\n",
    "\n",
    "grid_search = GridSearchCV(pipeline, param_grid, cv=kf, scoring='f1_macro', n_jobs=os.cpu_count()//2, verbose=3)\n",
    "grid_search.fit(X_train, y_train)\n",
    "\n",
    "print(\"Best parameters found: \", grid_search.best_params_)\n",
    "grid_search.best_estimator_"
   ]
  },
  {
   "cell_type": "code",
   "execution_count": 12,
   "id": "1d39bfed06d876b3",
   "metadata": {},
   "outputs": [
    {
     "name": "stdout",
     "output_type": "stream",
     "text": [
      "{\n",
      "    \"0\": {\n",
      "        \"precision\": 0.9998533120907509,\n",
      "        \"recall\": 0.9976954646842567,\n",
      "        \"f1-score\": 0.9987732228826901,\n",
      "        \"support\": 1229749.0\n",
      "    },\n",
      "    \"1\": {\n",
      "        \"precision\": 0.9765812197658122,\n",
      "        \"recall\": 0.9989363669996301,\n",
      "        \"f1-score\": 0.9876323068833871,\n",
      "        \"support\": 43248.0\n",
      "    },\n",
      "    \"2\": {\n",
      "        \"precision\": 0.9734244257106146,\n",
      "        \"recall\": 0.9995816438179829,\n",
      "        \"f1-score\": 0.986329644507248,\n",
      "        \"support\": 31074.0\n",
      "    },\n",
      "    \"3\": {\n",
      "        \"precision\": 0.9943928357383246,\n",
      "        \"recall\": 0.9991661793061917,\n",
      "        \"f1-score\": 0.9967737929162082,\n",
      "        \"support\": 172699.0\n",
      "    },\n",
      "    \"accuracy\": 0.9979434847674317,\n",
      "    \"macro avg\": {\n",
      "        \"precision\": 0.9860629483263755,\n",
      "        \"recall\": 0.9988449137020154,\n",
      "        \"f1-score\": 0.9923772417973833,\n",
      "        \"support\": 1476770.0\n",
      "    },\n",
      "    \"weighted avg\": {\n",
      "        \"precision\": 0.9979770947584427,\n",
      "        \"recall\": 0.9979434847674317,\n",
      "        \"f1-score\": 0.9979512982462485,\n",
      "        \"support\": 1476770.0\n",
      "    }\n",
      "}\n"
     ]
    }
   ],
   "source": [
    "import json\n",
    "from sklearn.metrics import classification_report\n",
    "\n",
    "y_pred = grid_search.best_estimator_.predict(X_test)\n",
    "print(json.dumps(classification_report(y_test, y_pred, output_dict=True), indent=4))"
   ]
  },
  {
   "cell_type": "code",
   "execution_count": 13,
   "id": "bbb061fe13021e59",
   "metadata": {},
   "outputs": [
    {
     "data": {
      "image/png": "[encoded data removed]",
      "text/plain": [
       "<Figure size 600x400 with 1 Axes>"
      ]
     },
     "metadata": {},
     "output_type": "display_data"
    }
   ],
   "source": [
    "from sklearn.metrics import confusion_matrix\n",
    "from matplotlib import pyplot as plt\n",
    "import seaborn as sns\n",
    "\n",
    "cm = confusion_matrix(y_test, y_pred)\n",
    "\n",
    "plt.figure(figsize=(6, 4))\n",
    "sns.heatmap(cm, annot=True, fmt='d', cmap='coolwarm', cbar=False)\n",
    "plt.title(\"Confusion Matrix\")\n",
    "plt.ylabel(\"Actual\")\n",
    "plt.xlabel(\"Predicted\")\n",
    "plt.show()"
   ]
  },
  {
   "cell_type": "code",
   "execution_count": 14,
   "id": "d29e6d11d7f8aa6a",
   "metadata": {},
   "outputs": [
    {
     "data": {
      "image/png": "[encoded data removed]",
      "text/plain": [
       "<Figure size 640x480 with 1 Axes>"
      ]
     },
     "metadata": {},
     "output_type": "display_data"
    }
   ],
   "source": [
    "from sklearn.metrics import roc_curve, auc\n",
    "from sklearn.preprocessing import label_binarize\n",
    "from itertools import cycle\n",
    "import numpy as np\n",
    "\n",
    "\n",
    "n_classes = len(np.unique(y_test))\n",
    "y_test_binarized = label_binarize(y_test, classes=np.arange(n_classes))\n",
    "\n",
    "y_score = grid_search.best_estimator_.predict_proba(X_test)\n",
    "\n",
    "fpr = dict()\n",
    "tpr = dict()\n",
    "roc_auc = dict()\n",
    "for i in range(n_classes):\n",
    "    fpr[i], tpr[i], _ = roc_curve(y_test_binarized[:, i], y_score[:, i])\n",
    "    roc_auc[i] = auc(fpr[i], tpr[i])\n",
    "    \n",
    "plt.figure()\n",
    "colors = cycle(['aqua', 'darkorange', 'cornflowerblue', 'green'])\n",
    "for i, color in zip(range(n_classes), colors):\n",
    "    plt.plot(fpr[i], tpr[i], color=color, lw=2,\n",
    "             label=f'Class {i} (AUC = {roc_auc[i]:.2f})')\n",
    "    \n",
    "plt.plot([0, 1], [0, 1], 'k--', lw=2)\n",
    "\n",
    "plt.xlabel('False Positive Rate')\n",
    "plt.ylabel('True Positive Rate')\n",
    "plt.title('Receiver Operating Characteristic (ROC) Curve')\n",
    "plt.legend(loc=\"lower right\")\n",
    "plt.grid()\n",
    "plt.show()"
   ]
  },
  {
   "cell_type": "code",
   "execution_count": 15,
   "id": "7bbc6a62",
   "metadata": {},
   "outputs": [],
   "source": [
    "import pickle\n",
    "with open('models/best_model.pkl', 'wb') as f:\n",
    "    pickle.dump(grid_search.best_estimator_, f)"
   ]
  },
  {
   "cell_type": "code",
   "execution_count": 16,
   "id": "e8e3f516",
   "metadata": {},
   "outputs": [],
   "source": [
    "with open('models/best_model.pkl', 'rb') as f:\n",
    "    loaded_model = pickle.load(f)\n"
   ]
  },
  {
   "cell_type": "code",
   "execution_count": 17,
   "id": "35eb8be3",
   "metadata": {},
   "outputs": [],
   "source": [
    "data_to_predict = X_test.iloc[991].tolist()"
   ]
  },
  {
   "cell_type": "code",
   "execution_count": 18,
   "id": "95456895",
   "metadata": {},
   "outputs": [
    {
     "data": {
      "text/plain": [
       "array([ True,  True,  True,  True,  True,  True,  True,  True,  True,\n",
       "        True,  True])"
      ]
     },
     "execution_count": 18,
     "metadata": {},
     "output_type": "execute_result"
    }
   ],
   "source": [
    "X_train.columns == X_test.columns"
   ]
  },
  {
   "cell_type": "code",
   "execution_count": 19,
   "id": "c2f0fcb5",
   "metadata": {},
   "outputs": [
    {
     "data": {
      "text/plain": [
       "array([0])"
      ]
     },
     "execution_count": 19,
     "metadata": {},
     "output_type": "execute_result"
    }
   ],
   "source": [
    "data_to_predict_df = pd.DataFrame([data_to_predict], columns=X_test.columns)\n",
    "loaded_model.predict(data_to_predict_df)"
   ]
  }
 ],
 "metadata": {
  "kernelspec": {
   "display_name": "project-env",
   "language": "python",
   "name": "python3"
  },
  "language_info": {
   "codemirror_mode": {
    "name": "ipython",
    "version": 3
   },
   "file_extension": ".py",
   "mimetype": "text/x-python",
   "name": "python",
   "nbconvert_exporter": "python",
   "pygments_lexer": "ipython3",
   "version": "3.12.5"
  }
 },
 "nbformat": 4,
 "nbformat_minor": 5
}
