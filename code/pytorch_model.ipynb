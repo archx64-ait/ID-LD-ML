{
 "cells": [
  {
   "cell_type": "code",
   "id": "initial_id",
   "metadata": {
    "collapsed": true,
    "ExecuteTime": {
     "end_time": "2024-11-28T08:21:59.353695Z",
     "start_time": "2024-11-28T08:21:56.402876Z"
    }
   },
   "source": [
    "import torch\n",
    "import torch.nn as nn\n",
    "import torch.optim as optim\n",
    "from torch.utils.data import DataLoader, TensorDataset\n",
    "\n",
    "device = ('cuda' if torch.cuda.is_available() else 'cpu')\n",
    "device"
   ],
   "outputs": [
    {
     "data": {
      "text/plain": [
       "'cuda'"
      ]
     },
     "execution_count": 1,
     "metadata": {},
     "output_type": "execute_result"
    }
   ],
   "execution_count": 1
  },
  {
   "metadata": {
    "ExecuteTime": {
     "end_time": "2024-11-28T08:21:59.932109Z",
     "start_time": "2024-11-28T08:21:59.363671Z"
    }
   },
   "cell_type": "code",
   "source": [
    "import pandas as pd\n",
    "\n",
    "df = pd.read_parquet('data/preprocessed.parquet')\n",
    "df.head()"
   ],
   "id": "bceb507280c94fe2",
   "outputs": [
    {
     "data": {
      "text/plain": [
       "   Avg Packet Size  Packet Length Mean  Bwd Packet Length Std  \\\n",
       "0          9.00000            6.000000               0.000000   \n",
       "1          9.00000            6.000000               0.000000   \n",
       "2          9.00000            6.000000               0.000000   \n",
       "3          9.00000            6.000000               0.000000   \n",
       "4         81.63636           74.833336             119.511505   \n",
       "\n",
       "   Packet Length Variance  Bwd Packet Length Max  Packet Length Max  \\\n",
       "0                0.000000                    0.0                6.0   \n",
       "1                0.000000                    0.0                6.0   \n",
       "2                0.000000                    0.0                6.0   \n",
       "3                0.000000                    0.0                6.0   \n",
       "4            11562.151367                  207.0              233.0   \n",
       "\n",
       "   Packet Length Std  Avg Fwd Segment Size  Fwd Packet Length Mean  \\\n",
       "0           0.000000               6.00000                 6.00000   \n",
       "1           0.000000               6.00000                 6.00000   \n",
       "2           0.000000               6.00000                 6.00000   \n",
       "3           0.000000               6.00000                 6.00000   \n",
       "4         107.527443              69.14286                69.14286   \n",
       "\n",
       "   Flow Bytes/s  ...  Fwd Act Data Packets  Subflow Fwd Packets  \\\n",
       "0  3.000000e+06  ...                     1                    2   \n",
       "1  1.200000e+07  ...                     1                    2   \n",
       "2  4.000000e+06  ...                     1                    2   \n",
       "3  1.200000e+07  ...                     1                    2   \n",
       "4  1.474548e+06  ...                     5                    7   \n",
       "\n",
       "   Total Fwd Packets  Bwd Header Length  Flow IAT Mean  Flow IAT Min  \\\n",
       "0                  2                  0       4.000000           4.0   \n",
       "1                  2                  0       1.000000           1.0   \n",
       "2                  2                  0       3.000000           3.0   \n",
       "3                  2                  0       1.000000           1.0   \n",
       "4                  7                104      60.900002           2.0   \n",
       "\n",
       "   Fwd IAT Min  Fwd IAT Mean  Idle Std  ClassLabel  \n",
       "0          4.0           4.0       0.0           0  \n",
       "1          1.0           1.0       0.0           0  \n",
       "2          3.0           3.0       0.0           0  \n",
       "3          1.0           1.0       0.0           0  \n",
       "4          2.0         101.5       0.0           0  \n",
       "\n",
       "[5 rows x 27 columns]"
      ],
      "text/html": [
       "<div>\n",
       "<style scoped>\n",
       "    .dataframe tbody tr th:only-of-type {\n",
       "        vertical-align: middle;\n",
       "    }\n",
       "\n",
       "    .dataframe tbody tr th {\n",
       "        vertical-align: top;\n",
       "    }\n",
       "\n",
       "    .dataframe thead th {\n",
       "        text-align: right;\n",
       "    }\n",
       "</style>\n",
       "<table border=\"1\" class=\"dataframe\">\n",
       "  <thead>\n",
       "    <tr style=\"text-align: right;\">\n",
       "      <th></th>\n",
       "      <th>Avg Packet Size</th>\n",
       "      <th>Packet Length Mean</th>\n",
       "      <th>Bwd Packet Length Std</th>\n",
       "      <th>Packet Length Variance</th>\n",
       "      <th>Bwd Packet Length Max</th>\n",
       "      <th>Packet Length Max</th>\n",
       "      <th>Packet Length Std</th>\n",
       "      <th>Avg Fwd Segment Size</th>\n",
       "      <th>Fwd Packet Length Mean</th>\n",
       "      <th>Flow Bytes/s</th>\n",
       "      <th>...</th>\n",
       "      <th>Fwd Act Data Packets</th>\n",
       "      <th>Subflow Fwd Packets</th>\n",
       "      <th>Total Fwd Packets</th>\n",
       "      <th>Bwd Header Length</th>\n",
       "      <th>Flow IAT Mean</th>\n",
       "      <th>Flow IAT Min</th>\n",
       "      <th>Fwd IAT Min</th>\n",
       "      <th>Fwd IAT Mean</th>\n",
       "      <th>Idle Std</th>\n",
       "      <th>ClassLabel</th>\n",
       "    </tr>\n",
       "  </thead>\n",
       "  <tbody>\n",
       "    <tr>\n",
       "      <th>0</th>\n",
       "      <td>9.00000</td>\n",
       "      <td>6.000000</td>\n",
       "      <td>0.000000</td>\n",
       "      <td>0.000000</td>\n",
       "      <td>0.0</td>\n",
       "      <td>6.0</td>\n",
       "      <td>0.000000</td>\n",
       "      <td>6.00000</td>\n",
       "      <td>6.00000</td>\n",
       "      <td>3.000000e+06</td>\n",
       "      <td>...</td>\n",
       "      <td>1</td>\n",
       "      <td>2</td>\n",
       "      <td>2</td>\n",
       "      <td>0</td>\n",
       "      <td>4.000000</td>\n",
       "      <td>4.0</td>\n",
       "      <td>4.0</td>\n",
       "      <td>4.0</td>\n",
       "      <td>0.0</td>\n",
       "      <td>0</td>\n",
       "    </tr>\n",
       "    <tr>\n",
       "      <th>1</th>\n",
       "      <td>9.00000</td>\n",
       "      <td>6.000000</td>\n",
       "      <td>0.000000</td>\n",
       "      <td>0.000000</td>\n",
       "      <td>0.0</td>\n",
       "      <td>6.0</td>\n",
       "      <td>0.000000</td>\n",
       "      <td>6.00000</td>\n",
       "      <td>6.00000</td>\n",
       "      <td>1.200000e+07</td>\n",
       "      <td>...</td>\n",
       "      <td>1</td>\n",
       "      <td>2</td>\n",
       "      <td>2</td>\n",
       "      <td>0</td>\n",
       "      <td>1.000000</td>\n",
       "      <td>1.0</td>\n",
       "      <td>1.0</td>\n",
       "      <td>1.0</td>\n",
       "      <td>0.0</td>\n",
       "      <td>0</td>\n",
       "    </tr>\n",
       "    <tr>\n",
       "      <th>2</th>\n",
       "      <td>9.00000</td>\n",
       "      <td>6.000000</td>\n",
       "      <td>0.000000</td>\n",
       "      <td>0.000000</td>\n",
       "      <td>0.0</td>\n",
       "      <td>6.0</td>\n",
       "      <td>0.000000</td>\n",
       "      <td>6.00000</td>\n",
       "      <td>6.00000</td>\n",
       "      <td>4.000000e+06</td>\n",
       "      <td>...</td>\n",
       "      <td>1</td>\n",
       "      <td>2</td>\n",
       "      <td>2</td>\n",
       "      <td>0</td>\n",
       "      <td>3.000000</td>\n",
       "      <td>3.0</td>\n",
       "      <td>3.0</td>\n",
       "      <td>3.0</td>\n",
       "      <td>0.0</td>\n",
       "      <td>0</td>\n",
       "    </tr>\n",
       "    <tr>\n",
       "      <th>3</th>\n",
       "      <td>9.00000</td>\n",
       "      <td>6.000000</td>\n",
       "      <td>0.000000</td>\n",
       "      <td>0.000000</td>\n",
       "      <td>0.0</td>\n",
       "      <td>6.0</td>\n",
       "      <td>0.000000</td>\n",
       "      <td>6.00000</td>\n",
       "      <td>6.00000</td>\n",
       "      <td>1.200000e+07</td>\n",
       "      <td>...</td>\n",
       "      <td>1</td>\n",
       "      <td>2</td>\n",
       "      <td>2</td>\n",
       "      <td>0</td>\n",
       "      <td>1.000000</td>\n",
       "      <td>1.0</td>\n",
       "      <td>1.0</td>\n",
       "      <td>1.0</td>\n",
       "      <td>0.0</td>\n",
       "      <td>0</td>\n",
       "    </tr>\n",
       "    <tr>\n",
       "      <th>4</th>\n",
       "      <td>81.63636</td>\n",
       "      <td>74.833336</td>\n",
       "      <td>119.511505</td>\n",
       "      <td>11562.151367</td>\n",
       "      <td>207.0</td>\n",
       "      <td>233.0</td>\n",
       "      <td>107.527443</td>\n",
       "      <td>69.14286</td>\n",
       "      <td>69.14286</td>\n",
       "      <td>1.474548e+06</td>\n",
       "      <td>...</td>\n",
       "      <td>5</td>\n",
       "      <td>7</td>\n",
       "      <td>7</td>\n",
       "      <td>104</td>\n",
       "      <td>60.900002</td>\n",
       "      <td>2.0</td>\n",
       "      <td>2.0</td>\n",
       "      <td>101.5</td>\n",
       "      <td>0.0</td>\n",
       "      <td>0</td>\n",
       "    </tr>\n",
       "  </tbody>\n",
       "</table>\n",
       "<p>5 rows × 27 columns</p>\n",
       "</div>"
      ]
     },
     "execution_count": 2,
     "metadata": {},
     "output_type": "execute_result"
    }
   ],
   "execution_count": 2
  },
  {
   "metadata": {
    "ExecuteTime": {
     "end_time": "2024-11-28T08:22:00.230493Z",
     "start_time": "2024-11-28T08:22:00.224768Z"
    }
   },
   "cell_type": "code",
   "source": "df.dtypes",
   "id": "83137f5a23d61626",
   "outputs": [
    {
     "data": {
      "text/plain": [
       "Avg Packet Size             float32\n",
       "Packet Length Mean          float32\n",
       "Bwd Packet Length Std       float32\n",
       "Packet Length Variance      float32\n",
       "Bwd Packet Length Max       float64\n",
       "Packet Length Max           float64\n",
       "Packet Length Std           float32\n",
       "Avg Fwd Segment Size        float32\n",
       "Fwd Packet Length Mean      float32\n",
       "Flow Bytes/s                float64\n",
       "Avg Bwd Segment Size        float32\n",
       "Bwd Packet Length Mean      float32\n",
       "Fwd Packets/s               float32\n",
       "Flow Packets/s              float64\n",
       "Init Fwd Win Bytes            int32\n",
       "Subflow Fwd Bytes             int32\n",
       "Fwd Packets Length Total    float64\n",
       "Fwd Act Data Packets          int32\n",
       "Subflow Fwd Packets           int32\n",
       "Total Fwd Packets             int32\n",
       "Bwd Header Length             int64\n",
       "Flow IAT Mean               float32\n",
       "Flow IAT Min                float64\n",
       "Fwd IAT Min                 float64\n",
       "Fwd IAT Mean                float32\n",
       "Idle Std                    float32\n",
       "ClassLabel                    int64\n",
       "dtype: object"
      ]
     },
     "execution_count": 3,
     "metadata": {},
     "output_type": "execute_result"
    }
   ],
   "execution_count": 3
  },
  {
   "metadata": {
    "ExecuteTime": {
     "end_time": "2024-11-28T08:22:04.429133Z",
     "start_time": "2024-11-28T08:22:00.276781Z"
    }
   },
   "cell_type": "code",
   "source": [
    "from sklearn.model_selection import train_test_split\n",
    "\n",
    "X = df.drop(columns=['ClassLabel'], axis=1)\n",
    "y = df['ClassLabel']\n",
    "X_train, X_test, y_train, y_test = train_test_split(X, y, test_size=0.3, random_state=69)\n",
    "X_train.shape, X_test.shape, y_train.shape, y_test.shape"
   ],
   "id": "9a3e56666b9385f5",
   "outputs": [
    {
     "data": {
      "text/plain": [
       "((6069091, 26), (2601039, 26), (6069091,), (2601039,))"
      ]
     },
     "execution_count": 4,
     "metadata": {},
     "output_type": "execute_result"
    }
   ],
   "execution_count": 4
  },
  {
   "metadata": {
    "ExecuteTime": {
     "end_time": "2024-11-28T08:22:06.398755Z",
     "start_time": "2024-11-28T08:22:04.463597Z"
    }
   },
   "cell_type": "code",
   "source": [
    "from sklearn.preprocessing import MinMaxScaler\n",
    "\n",
    "mm_scaler = MinMaxScaler(feature_range=(0, 1))\n",
    "X_train = mm_scaler.fit_transform(X_train)\n",
    "X_test = mm_scaler.transform(X_test)"
   ],
   "id": "77170a29696c5ce3",
   "outputs": [],
   "execution_count": 5
  },
  {
   "metadata": {
    "ExecuteTime": {
     "end_time": "2024-11-28T08:22:07.228874Z",
     "start_time": "2024-11-28T08:22:06.423627Z"
    }
   },
   "cell_type": "code",
   "source": [
    "class IntrusionDetectorNet(nn.Module):\n",
    "    def __init__(self, input_dim, output_dim):\n",
    "        super(IntrusionDetectorNet, self).__init__()\n",
    "        self.fc1 = nn.Linear(input_dim, 128)  # Input to first hidden layer\n",
    "        self.dropout1 = nn.Dropout(0.5)  # Dropout layer after first hidden layer\n",
    "        self.fc2 = nn.Linear(128, 64)  # Second hidden layer\n",
    "        self.dropout2 = nn.Dropout(0.5)  # Dropout layer after second hidden layer\n",
    "        self.fc3 = nn.Linear(64, 32)  # Third hidden layer\n",
    "        self.fc4 = nn.Linear(32, output_dim)  # Output layer\n",
    "\n",
    "    def forward(self, x):\n",
    "        x = torch.relu(self.fc1(x))  # Activation after first hidden layer\n",
    "        x = self.dropout1(x)\n",
    "        x = torch.relu(self.fc2(x))  # Activation after second hidden layer\n",
    "        x = self.dropout2(x)\n",
    "        x = torch.relu(self.fc3(x))  # Activation after third hidden layer\n",
    "        x = torch.softmax(self.fc4(x), dim=1)  # Softmax for multi-class output\n",
    "        return x\n",
    "\n",
    "\n",
    "# model configuration\n",
    "input_dim = X_train.shape[1]  # Replace with your input dimension\n",
    "output_dim = 4  # Number of classes\n",
    "model = IntrusionDetectorNet(input_dim, output_dim).to(device)\n",
    "# model summary\n",
    "print(model)"
   ],
   "id": "b2cc90e22cfc0b81",
   "outputs": [
    {
     "name": "stdout",
     "output_type": "stream",
     "text": [
      "IntrusionDetectorNet(\n",
      "  (fc1): Linear(in_features=26, out_features=128, bias=True)\n",
      "  (dropout1): Dropout(p=0.5, inplace=False)\n",
      "  (fc2): Linear(in_features=128, out_features=64, bias=True)\n",
      "  (dropout2): Dropout(p=0.5, inplace=False)\n",
      "  (fc3): Linear(in_features=64, out_features=32, bias=True)\n",
      "  (fc4): Linear(in_features=32, out_features=4, bias=True)\n",
      ")\n"
     ]
    }
   ],
   "execution_count": 6
  },
  {
   "metadata": {
    "ExecuteTime": {
     "end_time": "2024-11-28T08:22:07.353280Z",
     "start_time": "2024-11-28T08:22:07.315764Z"
    }
   },
   "cell_type": "code",
   "source": "print(y_train.value_counts())",
   "id": "84fc76a81af9a135",
   "outputs": [
    {
     "name": "stdout",
     "output_type": "stream",
     "text": [
      "ClassLabel\n",
      "0    5029865\n",
      "3     864704\n",
      "1     102210\n",
      "2      72312\n",
      "Name: count, dtype: int64\n"
     ]
    }
   ],
   "execution_count": 7
  },
  {
   "metadata": {
    "ExecuteTime": {
     "start_time": "2024-11-28T08:22:07.430948Z"
    }
   },
   "cell_type": "code",
   "source": [
    "import os\n",
    "\n",
    "class_counts = torch.tensor([5029865, 102210, 72312, 864704], dtype=torch.float32).to(device)\n",
    "class_weights = 1.0 / class_counts\n",
    "class_weights = class_weights / class_weights.sum()\n",
    "\n",
    "criterion = nn.CrossEntropyLoss(weight=class_weights)\n",
    "optimizer = optim.Adam(model.parameters(), lr=0.1)\n",
    "scheduler = optim.lr_scheduler.StepLR(optimizer, step_size=5, gamma=0.1)\n",
    "\n",
    "X_train_tensor = torch.tensor(X_train, dtype=torch.float32).to(device)\n",
    "y_train_tensor = torch.tensor(y_train.to_numpy(), dtype=torch.long).to(device)\n",
    "\n",
    "train_dataset = TensorDataset(X_train_tensor, y_train_tensor)\n",
    "train_loader = DataLoader(train_dataset, batch_size=10240, shuffle=True, num_workers=os.cpu_count()//2)\n",
    "\n",
    "# Training loop\n",
    "epochs = 10\n",
    "for epoch in range(epochs):\n",
    "    model.train()\n",
    "    running_loss = 0.0\n",
    "\n",
    "    for inputs, labels in train_loader:\n",
    "        # Move batch data to the device\n",
    "        inputs, labels = inputs.to(device), labels.to(device)\n",
    "\n",
    "        optimizer.zero_grad()  # Clear gradients\n",
    "        outputs = model(inputs)  # Forward pass\n",
    "        loss = criterion(outputs, labels)  # Compute loss\n",
    "        loss.backward()  # Backpropagation\n",
    "        optimizer.step()  # Update weights\n",
    "\n",
    "        running_loss += loss.item()\n",
    "\n",
    "    print(f\"Epoch {epoch+1}/{epochs}, Loss: {running_loss/len(train_loader):.4f}\")"
   ],
   "id": "46b10bf2dfc73aa2",
   "outputs": [
    {
     "name": "stdout",
     "output_type": "stream",
     "text": [
      "Epoch 1/10, Loss: 0.7448\n",
      "Epoch 2/10, Loss: 0.7437\n",
      "Epoch 3/10, Loss: 0.7437\n",
      "Epoch 4/10, Loss: 0.7437\n"
     ]
    }
   ],
   "execution_count": null
  }
 ],
 "metadata": {
  "kernelspec": {
   "display_name": "Python 3",
   "language": "python",
   "name": "python3"
  },
  "language_info": {
   "codemirror_mode": {
    "name": "ipython",
    "version": 2
   },
   "file_extension": ".py",
   "mimetype": "text/x-python",
   "name": "python",
   "nbconvert_exporter": "python",
   "pygments_lexer": "ipython2",
   "version": "2.7.6"
  }
 },
 "nbformat": 4,
 "nbformat_minor": 5
}
