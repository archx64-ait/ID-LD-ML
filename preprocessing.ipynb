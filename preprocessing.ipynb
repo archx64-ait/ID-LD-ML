{
 "cells": [
  {
   "cell_type": "markdown",
   "metadata": {},
   "source": [
    "## Dataset Description\n",
    "\n",
    "This dataset contains various attributes related to different types of network traffic, and is used for the classification of different types of attacks\n",
    "\n",
    "| Column                          | Description                                                                                                                                          |\n",
    "|---------------------------------|------------------------------------------------------------------------------------------------------------------------------------------------------|\n",
    "| **Timestamp**                   | Date and time the packet was captured                                                                                                                |\n",
    "| **Source IP**                   | IP address of the packet sender                                                                                                                      |\n",
    "| **Destination IP**              | IP address of the packet receiver                                                                                                                    |\n",
    "| **Source Port**                 | Port number of the packet sender                                                                                                                     |\n",
    "| **Destination Port**            | Port number of the packet receiver                                                                                                                   |\n",
    "| **Protocol**                    | Network protocol used by the packet (e.g., TCP, UDP)                                                                                                 |\n",
    "| **Flow Duration**               | Duration of the network flow                                                                                                                         |\n",
    "| **Total Fwd Packets**           | Total number of packets sent in the forward direction                                                                                                |\n",
    "| **Total Bwd Packets**           | Total number of packets sent in the backward direction                                                                                               |\n",
    "| **Total Length of Fwd Packets** | Total length of packets sent in the forward direction                                                                                                |\n",
    "| **Total Length of Bwd Packets** | Total length of packets sent in the backward direction                                                                                               |\n",
    "| **Fwd Packet Length Max**       | Maximum length of a forward direction packet                                                                                                         |\n",
    "| **Fwd Packet Length Min**       | Minimum length of a forward direction packet                                                                                                         |\n",
    "| **Fwd Packet Length Mean**      | Mean length of forward direction packets                                                                                                             |\n",
    "| **Fwd Packet Length Std**       | Standard deviation of forward direction packet length                                                                                                |\n",
    "| **Bwd Packet Length Max**       | Maximum length of a backward direction packet                                                                                                        |\n",
    "| **Bwd Packet Length Min**       | Minimum length of a backward direction packet                                                                                                        |\n",
    "| **Bwd Packet Length Mean**      | Mean length of backward direction packets                                                                                                            |\n",
    "| **Bwd Packet Length Std**       | Standard deviation of backward direction packet length                                                                                               |\n",
    "| **Flow Bytes/s**                | Number of bytes per second in the flow                                                                                                               |\n",
    "| **Flow Packets/s**              | Number of packets per second in the flow                                                                                                             |\n",
    "| **Flow IAT Mean**               | Mean inter-arrival time of packets in the flow                                                                                                       |\n",
    "| **Flow IAT Std**                | Standard deviation of inter-arrival time of packets in the flow                                                                                      |\n",
    "| **Flow IAT Max**                | Maximum inter-arrival time of packets in the flow                                                                                                    |\n",
    "| **Flow IAT Min**                | Minimum inter-arrival time of packets in the flow                                                                                                    |\n",
    "| **Fwd IAT Mean**                | Mean inter-arrival time of forward direction packets                                                                                                 |\n",
    "| **Fwd IAT Std**                 | Standard deviation of inter-arrival time of forward direction packets                                                                                |\n",
    "| **Fwd IAT Max**                 | Maximum inter-arrival time of forward direction packets                                                                                              |\n",
    "| **Fwd IAT Min**                 | Minimum inter-arrival time of forward direction packets                                                                                              |\n",
    "| **Bwd IAT Mean**                | Mean inter-arrival time of backward direction packets                                                                                                |\n",
    "| **Bwd IAT Std**                 | Standard deviation of inter-arrival time of backward direction packets                                                                               |\n",
    "| **Bwd IAT Max**                 | Maximum inter-arrival time of backward direction packets                                                                                             |\n",
    "| **Bwd IAT Min**                 | Minimum inter-arrival time of backward direction packets                                                                                             |\n",
    "| **Fwd PSH Flags**               | Number of push flags in the forward direction                                                                                                        |\n",
    "| **Bwd PSH Flags**               | Number of push flags in the backward direction                                                                                                       |\n",
    "| **Fwd URG Flags**               | Number of urgent flags in the forward direction                                                                                                      |\n",
    "| **Bwd URG Flags**               | Number of urgent flags in the backward direction                                                                                                     |\n",
    "| **Fwd Header Length**           | Length of the forward direction packet headers                                                                                                       |\n",
    "| **Bwd Header Length**           | Length of the backward direction packet headers                                                                                                      |\n",
    "| **Fwd Packets/s**               | Number of packets per second in the forward direction                                                                                                |\n",
    "| **Bwd Packets/s**               | Number of packets per second in the backward direction                                                                                               |\n",
    "| **Packet Length Min**           | Minimum packet length in the flow                                                                                                                    |\n",
    "| **Packet Length Max**           | Maximum packet length in the flow                                                                                                                    |\n",
    "| **Packet Length Mean**          | Mean packet length in the flow                                                                                                                       |\n",
    "| **Packet Length Std**           | Standard deviation of packet length in the flow                                                                                                      |\n",
    "| **Packet Length Variance**      | Variance of packet length in the flow                                                                                                                |\n",
    "| **FIN Flag Count**              | Number of FIN flags in the flow                                                                                                                      |\n",
    "| **SYN Flag Count**              | Number of SYN flags in the flow                                                                                                                      |\n",
    "| **RST Flag Count**              | Number of RST flags in the flow                                                                                                                      |\n",
    "| **PSH Flag Count**              | Number of PSH flags in the flow                                                                                                                      |\n",
    "| **ACK Flag Count**              | Number of ACK flags in the flow                                                                                                                      |\n",
    "| **URG Flag Count**              | Number of URG flags in the flow                                                                                                                      |\n",
    "| **CWE Flag Count**              | Number of CWE flags in the flow                                                                                                                      |\n",
    "| **ECE Flag Count**              | Number of ECE flags in the flow                                                                                                                      |\n",
    "| **Down/Up Ratio**               | Ratio of the number of downward packets to upward packets                                                                                            |\n",
    "| **Average Packet Size**         | Average size of packets in the flow                                                                                                                  |\n",
    "| **Fwd Segment Size Avg**        | Average segment size in the forward direction                                                                                                        |\n",
    "| **Bwd Segment Size Avg**        | Average segment size in the backward direction                                                                                                       |\n",
    "| **Fwd Bytes/Bulk Avg**          | Average number of bytes sent in bulk in the forward direction                                                                                        |\n",
    "| **Fwd Packet/Bulk Avg**         | Average number of packets sent in bulk in the forward direction                                                                                      |\n",
    "| **Fwd Bulk Rate Avg**           | Average bulk rate in the forward direction                                                                                                           |\n",
    "| **Bwd Bytes/Bulk Avg**          | Average number of bytes sent in bulk in the backward direction                                                                                       |\n",
    "| **Bwd Packet/Bulk Avg**         | Average number of packets sent in bulk in the backward direction                                                                                     |\n",
    "| **Bwd Bulk Rate Avg**           | Average bulk rate in the backward direction                                                                                                          |\n",
    "| **Subflow Fwd Packets**         | Number of packets in the forward subflow                                                                                                             |\n",
    "| **Subflow Fwd Bytes**           | Number of bytes in the forward subflow                                                                                                               |\n",
    "| **Subflow Bwd Packets**         | Number of packets in the backward subflow                                                                                                            |\n",
    "| **Subflow Bwd Bytes**           | Number of bytes in the backward subflow                                                                                                              |\n",
    "| **Init Win Bytes Fwd**          | Initial window size in the forward direction                                                                                                         |\n",
    "| **Init Win Bytes Bwd**          | Initial window size in the backward direction                                                                                                        |\n",
    "| **Act Data Pkt Fwd**            | Number of active data packets in the forward direction                                                                                               |\n",
    "| **Min Segment Size Fwd**        | Minimum segment size observed in the forward direction                                                                                               |\n",
    "| **Active Mean**                 | Mean time a flow was active before going idle                                                                                                        |\n",
    "| **Active Std**                  | Standard deviation of active time before going idle                                                                                                  |\n",
    "| **Active Max**                  | Maximum active time before going idle                                                                                                                |\n",
    "| **Active Min**                  | Minimum active time before going idle                                                                                                                |\n",
    "| **Idle Mean**                   | Mean time a flow was idle before becoming active again                                                                                               |\n",
    "| **Idle Std**                    | Standard deviation of idle time before becoming active again                                                                                         |\n",
    "| **Idle Max**                    | Maximum idle time before becoming active again                                                                                                       |\n",
    "| **Idle Min**                    | Minimum idle time before becoming active again                                                                                                       |\n",
    "| **ClassLabel**                  | The class label indicating the type of network traffic (Benign, Botnet, Bruteforce, DoS, DDoS, Infiltration, Portscan, Webattack)                    |\n",
    "| **Label**                       | Detailed subcategories of attack or benign traffic, including specific attack types such as various DDoS types, bruteforce attacks, and web attacks. |\n"
   ]
  },
  {
   "cell_type": "code",
   "metadata": {
    "ExecuteTime": {
     "end_time": "2024-11-06T09:53:02.622261Z",
     "start_time": "2024-11-06T09:53:00.027389Z"
    }
   },
   "source": [
    "import pandas as pd\n",
    "import seaborn as sns\n",
    "from matplotlib import pyplot as plt\n",
    "\n",
    "pd.options.display.max_columns = None\n",
    "\n",
    "df = pd.read_parquet('cic-collection.parquet')"
   ],
   "outputs": [],
   "execution_count": 1
  },
  {
   "cell_type": "code",
   "metadata": {
    "ExecuteTime": {
     "end_time": "2024-11-06T09:53:02.663123Z",
     "start_time": "2024-11-06T09:53:02.626241Z"
    }
   },
   "source": [
    "df.head(5)"
   ],
   "outputs": [
    {
     "data": {
      "text/plain": [
       "   Flow Duration  Total Fwd Packets  Total Backward Packets  \\\n",
       "0              4                  2                       0   \n",
       "1              1                  2                       0   \n",
       "2              3                  2                       0   \n",
       "3              1                  2                       0   \n",
       "4            609                  7                       4   \n",
       "\n",
       "   Fwd Packets Length Total  Bwd Packets Length Total  Fwd Packet Length Max  \\\n",
       "0                      12.0                       0.0                    6.0   \n",
       "1                      12.0                       0.0                    6.0   \n",
       "2                      12.0                       0.0                    6.0   \n",
       "3                      12.0                       0.0                    6.0   \n",
       "4                     484.0                     414.0                  233.0   \n",
       "\n",
       "   Fwd Packet Length Mean  Fwd Packet Length Std  Bwd Packet Length Max  \\\n",
       "0                 6.00000               0.000000                    0.0   \n",
       "1                 6.00000               0.000000                    0.0   \n",
       "2                 6.00000               0.000000                    0.0   \n",
       "3                 6.00000               0.000000                    0.0   \n",
       "4                69.14286             111.967896                  207.0   \n",
       "\n",
       "   Bwd Packet Length Mean  Bwd Packet Length Std  Flow Bytes/s  \\\n",
       "0                     0.0               0.000000  3.000000e+06   \n",
       "1                     0.0               0.000000  1.200000e+07   \n",
       "2                     0.0               0.000000  4.000000e+06   \n",
       "3                     0.0               0.000000  1.200000e+07   \n",
       "4                   103.5             119.511505  1.474548e+06   \n",
       "\n",
       "   Flow Packets/s  Flow IAT Mean  Flow IAT Std  Flow IAT Max  Flow IAT Min  \\\n",
       "0    5.000000e+05       4.000000      0.000000           4.0           4.0   \n",
       "1    2.000000e+06       1.000000      0.000000           1.0           1.0   \n",
       "2    6.666667e+05       3.000000      0.000000           3.0           3.0   \n",
       "3    2.000000e+06       1.000000      0.000000           1.0           1.0   \n",
       "4    1.806240e+04      60.900002    115.194954         381.0           2.0   \n",
       "\n",
       "   Fwd IAT Total  Fwd IAT Mean  Fwd IAT Std  Fwd IAT Max  Fwd IAT Min  \\\n",
       "0            4.0           4.0     0.000000          4.0          4.0   \n",
       "1            1.0           1.0     0.000000          1.0          1.0   \n",
       "2            3.0           3.0     0.000000          3.0          3.0   \n",
       "3            1.0           1.0     0.000000          1.0          1.0   \n",
       "4          609.0         101.5   177.089523        460.0          2.0   \n",
       "\n",
       "   Bwd IAT Total  Bwd IAT Mean  Bwd IAT Std  Bwd IAT Max  Bwd IAT Min  \\\n",
       "0            0.0      0.000000     0.000000          0.0          0.0   \n",
       "1            0.0      0.000000     0.000000          0.0          0.0   \n",
       "2            0.0      0.000000     0.000000          0.0          0.0   \n",
       "3            0.0      0.000000     0.000000          0.0          0.0   \n",
       "4          467.0    155.666672   263.560883        460.0          3.0   \n",
       "\n",
       "   Fwd PSH Flags  Fwd Header Length  Bwd Header Length  Fwd Packets/s  \\\n",
       "0              0                 40                  0   5.000000e+05   \n",
       "1              0                 40                  0   2.000000e+06   \n",
       "2              0                 40                  0   6.666667e+05   \n",
       "3              0                 40                  0   2.000000e+06   \n",
       "4              0                164                104   1.149425e+04   \n",
       "\n",
       "   Bwd Packets/s  Packet Length Max  Packet Length Mean  Packet Length Std  \\\n",
       "0       0.000000                6.0            6.000000           0.000000   \n",
       "1       0.000000                6.0            6.000000           0.000000   \n",
       "2       0.000000                6.0            6.000000           0.000000   \n",
       "3       0.000000                6.0            6.000000           0.000000   \n",
       "4    6568.144531              233.0           74.833336         107.527443   \n",
       "\n",
       "   Packet Length Variance  SYN Flag Count  URG Flag Count  Avg Packet Size  \\\n",
       "0                0.000000               0               1          9.00000   \n",
       "1                0.000000               0               1          9.00000   \n",
       "2                0.000000               0               1          9.00000   \n",
       "3                0.000000               0               1          9.00000   \n",
       "4            11562.151367               0               0         81.63636   \n",
       "\n",
       "   Avg Fwd Segment Size  Avg Bwd Segment Size  Subflow Fwd Packets  \\\n",
       "0               6.00000                   0.0                    2   \n",
       "1               6.00000                   0.0                    2   \n",
       "2               6.00000                   0.0                    2   \n",
       "3               6.00000                   0.0                    2   \n",
       "4              69.14286                 103.5                    7   \n",
       "\n",
       "   Subflow Fwd Bytes  Subflow Bwd Packets  Subflow Bwd Bytes  \\\n",
       "0                 12                    0                  0   \n",
       "1                 12                    0                  0   \n",
       "2                 12                    0                  0   \n",
       "3                 12                    0                  0   \n",
       "4                484                    4                414   \n",
       "\n",
       "   Init Fwd Win Bytes  Init Bwd Win Bytes  Fwd Act Data Packets  \\\n",
       "0                 329                  -1                     1   \n",
       "1                 329                  -1                     1   \n",
       "2                 245                  -1                     1   \n",
       "3                 245                  -1                     1   \n",
       "4                8192                2053                     5   \n",
       "\n",
       "   Fwd Seg Size Min  Active Mean  Active Std  Active Max  Active Min  \\\n",
       "0                20          0.0         0.0         0.0         0.0   \n",
       "1                20          0.0         0.0         0.0         0.0   \n",
       "2                20          0.0         0.0         0.0         0.0   \n",
       "3                20          0.0         0.0         0.0         0.0   \n",
       "4                20          0.0         0.0         0.0         0.0   \n",
       "\n",
       "   Idle Mean  Idle Std  Idle Max  Idle Min   Label ClassLabel  \n",
       "0        0.0       0.0       0.0       0.0  Benign     Benign  \n",
       "1        0.0       0.0       0.0       0.0  Benign     Benign  \n",
       "2        0.0       0.0       0.0       0.0  Benign     Benign  \n",
       "3        0.0       0.0       0.0       0.0  Benign     Benign  \n",
       "4        0.0       0.0       0.0       0.0  Benign     Benign  "
      ],
      "text/html": [
       "<div>\n",
       "<style scoped>\n",
       "    .dataframe tbody tr th:only-of-type {\n",
       "        vertical-align: middle;\n",
       "    }\n",
       "\n",
       "    .dataframe tbody tr th {\n",
       "        vertical-align: top;\n",
       "    }\n",
       "\n",
       "    .dataframe thead th {\n",
       "        text-align: right;\n",
       "    }\n",
       "</style>\n",
       "<table border=\"1\" class=\"dataframe\">\n",
       "  <thead>\n",
       "    <tr style=\"text-align: right;\">\n",
       "      <th></th>\n",
       "      <th>Flow Duration</th>\n",
       "      <th>Total Fwd Packets</th>\n",
       "      <th>Total Backward Packets</th>\n",
       "      <th>Fwd Packets Length Total</th>\n",
       "      <th>Bwd Packets Length Total</th>\n",
       "      <th>Fwd Packet Length Max</th>\n",
       "      <th>Fwd Packet Length Mean</th>\n",
       "      <th>Fwd Packet Length Std</th>\n",
       "      <th>Bwd Packet Length Max</th>\n",
       "      <th>Bwd Packet Length Mean</th>\n",
       "      <th>Bwd Packet Length Std</th>\n",
       "      <th>Flow Bytes/s</th>\n",
       "      <th>Flow Packets/s</th>\n",
       "      <th>Flow IAT Mean</th>\n",
       "      <th>Flow IAT Std</th>\n",
       "      <th>Flow IAT Max</th>\n",
       "      <th>Flow IAT Min</th>\n",
       "      <th>Fwd IAT Total</th>\n",
       "      <th>Fwd IAT Mean</th>\n",
       "      <th>Fwd IAT Std</th>\n",
       "      <th>Fwd IAT Max</th>\n",
       "      <th>Fwd IAT Min</th>\n",
       "      <th>Bwd IAT Total</th>\n",
       "      <th>Bwd IAT Mean</th>\n",
       "      <th>Bwd IAT Std</th>\n",
       "      <th>Bwd IAT Max</th>\n",
       "      <th>Bwd IAT Min</th>\n",
       "      <th>Fwd PSH Flags</th>\n",
       "      <th>Fwd Header Length</th>\n",
       "      <th>Bwd Header Length</th>\n",
       "      <th>Fwd Packets/s</th>\n",
       "      <th>Bwd Packets/s</th>\n",
       "      <th>Packet Length Max</th>\n",
       "      <th>Packet Length Mean</th>\n",
       "      <th>Packet Length Std</th>\n",
       "      <th>Packet Length Variance</th>\n",
       "      <th>SYN Flag Count</th>\n",
       "      <th>URG Flag Count</th>\n",
       "      <th>Avg Packet Size</th>\n",
       "      <th>Avg Fwd Segment Size</th>\n",
       "      <th>Avg Bwd Segment Size</th>\n",
       "      <th>Subflow Fwd Packets</th>\n",
       "      <th>Subflow Fwd Bytes</th>\n",
       "      <th>Subflow Bwd Packets</th>\n",
       "      <th>Subflow Bwd Bytes</th>\n",
       "      <th>Init Fwd Win Bytes</th>\n",
       "      <th>Init Bwd Win Bytes</th>\n",
       "      <th>Fwd Act Data Packets</th>\n",
       "      <th>Fwd Seg Size Min</th>\n",
       "      <th>Active Mean</th>\n",
       "      <th>Active Std</th>\n",
       "      <th>Active Max</th>\n",
       "      <th>Active Min</th>\n",
       "      <th>Idle Mean</th>\n",
       "      <th>Idle Std</th>\n",
       "      <th>Idle Max</th>\n",
       "      <th>Idle Min</th>\n",
       "      <th>Label</th>\n",
       "      <th>ClassLabel</th>\n",
       "    </tr>\n",
       "  </thead>\n",
       "  <tbody>\n",
       "    <tr>\n",
       "      <th>0</th>\n",
       "      <td>4</td>\n",
       "      <td>2</td>\n",
       "      <td>0</td>\n",
       "      <td>12.0</td>\n",
       "      <td>0.0</td>\n",
       "      <td>6.0</td>\n",
       "      <td>6.00000</td>\n",
       "      <td>0.000000</td>\n",
       "      <td>0.0</td>\n",
       "      <td>0.0</td>\n",
       "      <td>0.000000</td>\n",
       "      <td>3.000000e+06</td>\n",
       "      <td>5.000000e+05</td>\n",
       "      <td>4.000000</td>\n",
       "      <td>0.000000</td>\n",
       "      <td>4.0</td>\n",
       "      <td>4.0</td>\n",
       "      <td>4.0</td>\n",
       "      <td>4.0</td>\n",
       "      <td>0.000000</td>\n",
       "      <td>4.0</td>\n",
       "      <td>4.0</td>\n",
       "      <td>0.0</td>\n",
       "      <td>0.000000</td>\n",
       "      <td>0.000000</td>\n",
       "      <td>0.0</td>\n",
       "      <td>0.0</td>\n",
       "      <td>0</td>\n",
       "      <td>40</td>\n",
       "      <td>0</td>\n",
       "      <td>5.000000e+05</td>\n",
       "      <td>0.000000</td>\n",
       "      <td>6.0</td>\n",
       "      <td>6.000000</td>\n",
       "      <td>0.000000</td>\n",
       "      <td>0.000000</td>\n",
       "      <td>0</td>\n",
       "      <td>1</td>\n",
       "      <td>9.00000</td>\n",
       "      <td>6.00000</td>\n",
       "      <td>0.0</td>\n",
       "      <td>2</td>\n",
       "      <td>12</td>\n",
       "      <td>0</td>\n",
       "      <td>0</td>\n",
       "      <td>329</td>\n",
       "      <td>-1</td>\n",
       "      <td>1</td>\n",
       "      <td>20</td>\n",
       "      <td>0.0</td>\n",
       "      <td>0.0</td>\n",
       "      <td>0.0</td>\n",
       "      <td>0.0</td>\n",
       "      <td>0.0</td>\n",
       "      <td>0.0</td>\n",
       "      <td>0.0</td>\n",
       "      <td>0.0</td>\n",
       "      <td>Benign</td>\n",
       "      <td>Benign</td>\n",
       "    </tr>\n",
       "    <tr>\n",
       "      <th>1</th>\n",
       "      <td>1</td>\n",
       "      <td>2</td>\n",
       "      <td>0</td>\n",
       "      <td>12.0</td>\n",
       "      <td>0.0</td>\n",
       "      <td>6.0</td>\n",
       "      <td>6.00000</td>\n",
       "      <td>0.000000</td>\n",
       "      <td>0.0</td>\n",
       "      <td>0.0</td>\n",
       "      <td>0.000000</td>\n",
       "      <td>1.200000e+07</td>\n",
       "      <td>2.000000e+06</td>\n",
       "      <td>1.000000</td>\n",
       "      <td>0.000000</td>\n",
       "      <td>1.0</td>\n",
       "      <td>1.0</td>\n",
       "      <td>1.0</td>\n",
       "      <td>1.0</td>\n",
       "      <td>0.000000</td>\n",
       "      <td>1.0</td>\n",
       "      <td>1.0</td>\n",
       "      <td>0.0</td>\n",
       "      <td>0.000000</td>\n",
       "      <td>0.000000</td>\n",
       "      <td>0.0</td>\n",
       "      <td>0.0</td>\n",
       "      <td>0</td>\n",
       "      <td>40</td>\n",
       "      <td>0</td>\n",
       "      <td>2.000000e+06</td>\n",
       "      <td>0.000000</td>\n",
       "      <td>6.0</td>\n",
       "      <td>6.000000</td>\n",
       "      <td>0.000000</td>\n",
       "      <td>0.000000</td>\n",
       "      <td>0</td>\n",
       "      <td>1</td>\n",
       "      <td>9.00000</td>\n",
       "      <td>6.00000</td>\n",
       "      <td>0.0</td>\n",
       "      <td>2</td>\n",
       "      <td>12</td>\n",
       "      <td>0</td>\n",
       "      <td>0</td>\n",
       "      <td>329</td>\n",
       "      <td>-1</td>\n",
       "      <td>1</td>\n",
       "      <td>20</td>\n",
       "      <td>0.0</td>\n",
       "      <td>0.0</td>\n",
       "      <td>0.0</td>\n",
       "      <td>0.0</td>\n",
       "      <td>0.0</td>\n",
       "      <td>0.0</td>\n",
       "      <td>0.0</td>\n",
       "      <td>0.0</td>\n",
       "      <td>Benign</td>\n",
       "      <td>Benign</td>\n",
       "    </tr>\n",
       "    <tr>\n",
       "      <th>2</th>\n",
       "      <td>3</td>\n",
       "      <td>2</td>\n",
       "      <td>0</td>\n",
       "      <td>12.0</td>\n",
       "      <td>0.0</td>\n",
       "      <td>6.0</td>\n",
       "      <td>6.00000</td>\n",
       "      <td>0.000000</td>\n",
       "      <td>0.0</td>\n",
       "      <td>0.0</td>\n",
       "      <td>0.000000</td>\n",
       "      <td>4.000000e+06</td>\n",
       "      <td>6.666667e+05</td>\n",
       "      <td>3.000000</td>\n",
       "      <td>0.000000</td>\n",
       "      <td>3.0</td>\n",
       "      <td>3.0</td>\n",
       "      <td>3.0</td>\n",
       "      <td>3.0</td>\n",
       "      <td>0.000000</td>\n",
       "      <td>3.0</td>\n",
       "      <td>3.0</td>\n",
       "      <td>0.0</td>\n",
       "      <td>0.000000</td>\n",
       "      <td>0.000000</td>\n",
       "      <td>0.0</td>\n",
       "      <td>0.0</td>\n",
       "      <td>0</td>\n",
       "      <td>40</td>\n",
       "      <td>0</td>\n",
       "      <td>6.666667e+05</td>\n",
       "      <td>0.000000</td>\n",
       "      <td>6.0</td>\n",
       "      <td>6.000000</td>\n",
       "      <td>0.000000</td>\n",
       "      <td>0.000000</td>\n",
       "      <td>0</td>\n",
       "      <td>1</td>\n",
       "      <td>9.00000</td>\n",
       "      <td>6.00000</td>\n",
       "      <td>0.0</td>\n",
       "      <td>2</td>\n",
       "      <td>12</td>\n",
       "      <td>0</td>\n",
       "      <td>0</td>\n",
       "      <td>245</td>\n",
       "      <td>-1</td>\n",
       "      <td>1</td>\n",
       "      <td>20</td>\n",
       "      <td>0.0</td>\n",
       "      <td>0.0</td>\n",
       "      <td>0.0</td>\n",
       "      <td>0.0</td>\n",
       "      <td>0.0</td>\n",
       "      <td>0.0</td>\n",
       "      <td>0.0</td>\n",
       "      <td>0.0</td>\n",
       "      <td>Benign</td>\n",
       "      <td>Benign</td>\n",
       "    </tr>\n",
       "    <tr>\n",
       "      <th>3</th>\n",
       "      <td>1</td>\n",
       "      <td>2</td>\n",
       "      <td>0</td>\n",
       "      <td>12.0</td>\n",
       "      <td>0.0</td>\n",
       "      <td>6.0</td>\n",
       "      <td>6.00000</td>\n",
       "      <td>0.000000</td>\n",
       "      <td>0.0</td>\n",
       "      <td>0.0</td>\n",
       "      <td>0.000000</td>\n",
       "      <td>1.200000e+07</td>\n",
       "      <td>2.000000e+06</td>\n",
       "      <td>1.000000</td>\n",
       "      <td>0.000000</td>\n",
       "      <td>1.0</td>\n",
       "      <td>1.0</td>\n",
       "      <td>1.0</td>\n",
       "      <td>1.0</td>\n",
       "      <td>0.000000</td>\n",
       "      <td>1.0</td>\n",
       "      <td>1.0</td>\n",
       "      <td>0.0</td>\n",
       "      <td>0.000000</td>\n",
       "      <td>0.000000</td>\n",
       "      <td>0.0</td>\n",
       "      <td>0.0</td>\n",
       "      <td>0</td>\n",
       "      <td>40</td>\n",
       "      <td>0</td>\n",
       "      <td>2.000000e+06</td>\n",
       "      <td>0.000000</td>\n",
       "      <td>6.0</td>\n",
       "      <td>6.000000</td>\n",
       "      <td>0.000000</td>\n",
       "      <td>0.000000</td>\n",
       "      <td>0</td>\n",
       "      <td>1</td>\n",
       "      <td>9.00000</td>\n",
       "      <td>6.00000</td>\n",
       "      <td>0.0</td>\n",
       "      <td>2</td>\n",
       "      <td>12</td>\n",
       "      <td>0</td>\n",
       "      <td>0</td>\n",
       "      <td>245</td>\n",
       "      <td>-1</td>\n",
       "      <td>1</td>\n",
       "      <td>20</td>\n",
       "      <td>0.0</td>\n",
       "      <td>0.0</td>\n",
       "      <td>0.0</td>\n",
       "      <td>0.0</td>\n",
       "      <td>0.0</td>\n",
       "      <td>0.0</td>\n",
       "      <td>0.0</td>\n",
       "      <td>0.0</td>\n",
       "      <td>Benign</td>\n",
       "      <td>Benign</td>\n",
       "    </tr>\n",
       "    <tr>\n",
       "      <th>4</th>\n",
       "      <td>609</td>\n",
       "      <td>7</td>\n",
       "      <td>4</td>\n",
       "      <td>484.0</td>\n",
       "      <td>414.0</td>\n",
       "      <td>233.0</td>\n",
       "      <td>69.14286</td>\n",
       "      <td>111.967896</td>\n",
       "      <td>207.0</td>\n",
       "      <td>103.5</td>\n",
       "      <td>119.511505</td>\n",
       "      <td>1.474548e+06</td>\n",
       "      <td>1.806240e+04</td>\n",
       "      <td>60.900002</td>\n",
       "      <td>115.194954</td>\n",
       "      <td>381.0</td>\n",
       "      <td>2.0</td>\n",
       "      <td>609.0</td>\n",
       "      <td>101.5</td>\n",
       "      <td>177.089523</td>\n",
       "      <td>460.0</td>\n",
       "      <td>2.0</td>\n",
       "      <td>467.0</td>\n",
       "      <td>155.666672</td>\n",
       "      <td>263.560883</td>\n",
       "      <td>460.0</td>\n",
       "      <td>3.0</td>\n",
       "      <td>0</td>\n",
       "      <td>164</td>\n",
       "      <td>104</td>\n",
       "      <td>1.149425e+04</td>\n",
       "      <td>6568.144531</td>\n",
       "      <td>233.0</td>\n",
       "      <td>74.833336</td>\n",
       "      <td>107.527443</td>\n",
       "      <td>11562.151367</td>\n",
       "      <td>0</td>\n",
       "      <td>0</td>\n",
       "      <td>81.63636</td>\n",
       "      <td>69.14286</td>\n",
       "      <td>103.5</td>\n",
       "      <td>7</td>\n",
       "      <td>484</td>\n",
       "      <td>4</td>\n",
       "      <td>414</td>\n",
       "      <td>8192</td>\n",
       "      <td>2053</td>\n",
       "      <td>5</td>\n",
       "      <td>20</td>\n",
       "      <td>0.0</td>\n",
       "      <td>0.0</td>\n",
       "      <td>0.0</td>\n",
       "      <td>0.0</td>\n",
       "      <td>0.0</td>\n",
       "      <td>0.0</td>\n",
       "      <td>0.0</td>\n",
       "      <td>0.0</td>\n",
       "      <td>Benign</td>\n",
       "      <td>Benign</td>\n",
       "    </tr>\n",
       "  </tbody>\n",
       "</table>\n",
       "</div>"
      ]
     },
     "execution_count": 2,
     "metadata": {},
     "output_type": "execute_result"
    }
   ],
   "execution_count": 2
  },
  {
   "cell_type": "code",
   "metadata": {
    "ExecuteTime": {
     "end_time": "2024-11-06T09:53:02.899519Z",
     "start_time": "2024-11-06T09:53:02.893497Z"
    }
   },
   "source": [
    "df.dtypes"
   ],
   "outputs": [
    {
     "data": {
      "text/plain": [
       "Flow Duration                 int64\n",
       "Total Fwd Packets             int32\n",
       "Total Backward Packets        int32\n",
       "Fwd Packets Length Total    float64\n",
       "Bwd Packets Length Total    float64\n",
       "Fwd Packet Length Max       float64\n",
       "Fwd Packet Length Mean      float32\n",
       "Fwd Packet Length Std       float32\n",
       "Bwd Packet Length Max       float64\n",
       "Bwd Packet Length Mean      float32\n",
       "Bwd Packet Length Std       float32\n",
       "Flow Bytes/s                float64\n",
       "Flow Packets/s              float64\n",
       "Flow IAT Mean               float32\n",
       "Flow IAT Std                float32\n",
       "Flow IAT Max                float64\n",
       "Flow IAT Min                float64\n",
       "Fwd IAT Total               float64\n",
       "Fwd IAT Mean                float32\n",
       "Fwd IAT Std                 float32\n",
       "Fwd IAT Max                 float64\n",
       "Fwd IAT Min                 float64\n",
       "Bwd IAT Total               float64\n",
       "Bwd IAT Mean                float32\n",
       "Bwd IAT Std                 float32\n",
       "Bwd IAT Max                 float64\n",
       "Bwd IAT Min                 float64\n",
       "Fwd PSH Flags                  int8\n",
       "Fwd Header Length             int64\n",
       "Bwd Header Length             int64\n",
       "Fwd Packets/s               float32\n",
       "Bwd Packets/s               float32\n",
       "Packet Length Max           float64\n",
       "Packet Length Mean          float32\n",
       "Packet Length Std           float32\n",
       "Packet Length Variance      float32\n",
       "SYN Flag Count                 int8\n",
       "URG Flag Count                 int8\n",
       "Avg Packet Size             float32\n",
       "Avg Fwd Segment Size        float32\n",
       "Avg Bwd Segment Size        float32\n",
       "Subflow Fwd Packets           int32\n",
       "Subflow Fwd Bytes             int32\n",
       "Subflow Bwd Packets           int32\n",
       "Subflow Bwd Bytes             int32\n",
       "Init Fwd Win Bytes            int32\n",
       "Init Bwd Win Bytes            int32\n",
       "Fwd Act Data Packets          int32\n",
       "Fwd Seg Size Min              int32\n",
       "Active Mean                 float32\n",
       "Active Std                  float32\n",
       "Active Max                  float64\n",
       "Active Min                  float64\n",
       "Idle Mean                   float32\n",
       "Idle Std                    float32\n",
       "Idle Max                    float64\n",
       "Idle Min                    float64\n",
       "Label                        object\n",
       "ClassLabel                   object\n",
       "dtype: object"
      ]
     },
     "execution_count": 3,
     "metadata": {},
     "output_type": "execute_result"
    }
   ],
   "execution_count": 3
  },
  {
   "cell_type": "code",
   "metadata": {
    "ExecuteTime": {
     "end_time": "2024-11-06T09:53:03.006046Z",
     "start_time": "2024-11-06T09:53:03.000043Z"
    }
   },
   "source": [
    "df.columns"
   ],
   "outputs": [
    {
     "data": {
      "text/plain": [
       "Index(['Flow Duration', 'Total Fwd Packets', 'Total Backward Packets',\n",
       "       'Fwd Packets Length Total', 'Bwd Packets Length Total',\n",
       "       'Fwd Packet Length Max', 'Fwd Packet Length Mean',\n",
       "       'Fwd Packet Length Std', 'Bwd Packet Length Max',\n",
       "       'Bwd Packet Length Mean', 'Bwd Packet Length Std', 'Flow Bytes/s',\n",
       "       'Flow Packets/s', 'Flow IAT Mean', 'Flow IAT Std', 'Flow IAT Max',\n",
       "       'Flow IAT Min', 'Fwd IAT Total', 'Fwd IAT Mean', 'Fwd IAT Std',\n",
       "       'Fwd IAT Max', 'Fwd IAT Min', 'Bwd IAT Total', 'Bwd IAT Mean',\n",
       "       'Bwd IAT Std', 'Bwd IAT Max', 'Bwd IAT Min', 'Fwd PSH Flags',\n",
       "       'Fwd Header Length', 'Bwd Header Length', 'Fwd Packets/s',\n",
       "       'Bwd Packets/s', 'Packet Length Max', 'Packet Length Mean',\n",
       "       'Packet Length Std', 'Packet Length Variance', 'SYN Flag Count',\n",
       "       'URG Flag Count', 'Avg Packet Size', 'Avg Fwd Segment Size',\n",
       "       'Avg Bwd Segment Size', 'Subflow Fwd Packets', 'Subflow Fwd Bytes',\n",
       "       'Subflow Bwd Packets', 'Subflow Bwd Bytes', 'Init Fwd Win Bytes',\n",
       "       'Init Bwd Win Bytes', 'Fwd Act Data Packets', 'Fwd Seg Size Min',\n",
       "       'Active Mean', 'Active Std', 'Active Max', 'Active Min', 'Idle Mean',\n",
       "       'Idle Std', 'Idle Max', 'Idle Min', 'Label', 'ClassLabel'],\n",
       "      dtype='object')"
      ]
     },
     "execution_count": 4,
     "metadata": {},
     "output_type": "execute_result"
    }
   ],
   "execution_count": 4
  },
  {
   "cell_type": "markdown",
   "metadata": {},
   "source": ""
  },
  {
   "cell_type": "code",
   "metadata": {
    "ExecuteTime": {
     "end_time": "2024-11-06T09:53:04.377137Z",
     "start_time": "2024-11-06T09:53:03.127289Z"
    }
   },
   "source": [
    "df.isna().sum()"
   ],
   "outputs": [
    {
     "data": {
      "text/plain": [
       "Flow Duration               0\n",
       "Total Fwd Packets           0\n",
       "Total Backward Packets      0\n",
       "Fwd Packets Length Total    0\n",
       "Bwd Packets Length Total    0\n",
       "Fwd Packet Length Max       0\n",
       "Fwd Packet Length Mean      0\n",
       "Fwd Packet Length Std       0\n",
       "Bwd Packet Length Max       0\n",
       "Bwd Packet Length Mean      0\n",
       "Bwd Packet Length Std       0\n",
       "Flow Bytes/s                0\n",
       "Flow Packets/s              0\n",
       "Flow IAT Mean               0\n",
       "Flow IAT Std                0\n",
       "Flow IAT Max                0\n",
       "Flow IAT Min                0\n",
       "Fwd IAT Total               0\n",
       "Fwd IAT Mean                0\n",
       "Fwd IAT Std                 0\n",
       "Fwd IAT Max                 0\n",
       "Fwd IAT Min                 0\n",
       "Bwd IAT Total               0\n",
       "Bwd IAT Mean                0\n",
       "Bwd IAT Std                 0\n",
       "Bwd IAT Max                 0\n",
       "Bwd IAT Min                 0\n",
       "Fwd PSH Flags               0\n",
       "Fwd Header Length           0\n",
       "Bwd Header Length           0\n",
       "Fwd Packets/s               0\n",
       "Bwd Packets/s               0\n",
       "Packet Length Max           0\n",
       "Packet Length Mean          0\n",
       "Packet Length Std           0\n",
       "Packet Length Variance      0\n",
       "SYN Flag Count              0\n",
       "URG Flag Count              0\n",
       "Avg Packet Size             0\n",
       "Avg Fwd Segment Size        0\n",
       "Avg Bwd Segment Size        0\n",
       "Subflow Fwd Packets         0\n",
       "Subflow Fwd Bytes           0\n",
       "Subflow Bwd Packets         0\n",
       "Subflow Bwd Bytes           0\n",
       "Init Fwd Win Bytes          0\n",
       "Init Bwd Win Bytes          0\n",
       "Fwd Act Data Packets        0\n",
       "Fwd Seg Size Min            0\n",
       "Active Mean                 0\n",
       "Active Std                  0\n",
       "Active Max                  0\n",
       "Active Min                  0\n",
       "Idle Mean                   0\n",
       "Idle Std                    0\n",
       "Idle Max                    0\n",
       "Idle Min                    0\n",
       "Label                       0\n",
       "ClassLabel                  0\n",
       "dtype: int64"
      ]
     },
     "execution_count": 5,
     "metadata": {},
     "output_type": "execute_result"
    }
   ],
   "execution_count": 5
  },
  {
   "metadata": {},
   "cell_type": "markdown",
   "source": "__Fortunately, there are no missing values in this dataset__"
  },
  {
   "cell_type": "code",
   "metadata": {
    "ExecuteTime": {
     "end_time": "2024-11-06T09:53:04.738330Z",
     "start_time": "2024-11-06T09:53:04.402235Z"
    }
   },
   "source": [
    "df['ClassLabel'].unique()"
   ],
   "outputs": [
    {
     "data": {
      "text/plain": [
       "array(['Benign', 'Botnet', 'Bruteforce', 'DoS', 'DDoS', 'Infiltration',\n",
       "       'Portscan', 'Webattack'], dtype=object)"
      ]
     },
     "execution_count": 6,
     "metadata": {},
     "output_type": "execute_result"
    }
   ],
   "execution_count": 6
  },
  {
   "cell_type": "code",
   "metadata": {
    "ExecuteTime": {
     "end_time": "2024-11-06T09:53:05.210988Z",
     "start_time": "2024-11-06T09:53:04.802545Z"
    }
   },
   "source": [
    "df['Label'].unique()"
   ],
   "outputs": [
    {
     "data": {
      "text/plain": [
       "array(['Benign', 'Botnet', 'Bruteforce-FTP', 'Bruteforce-SSH',\n",
       "       'DoS-Slowbody', 'DoS-Slowread', 'DDoS-Ddossim', 'DoS-Goldeneye',\n",
       "       'DoS-Slowheaders', 'DoS-Rudy', 'DoS-Hulk', 'DDoS-Slowloris',\n",
       "       'DDoS', 'DDoS-LOIC-HTTP', 'DDoS-UDP', 'DDoS-HOIC', 'DDoS-DNS',\n",
       "       'DoS-Slowloris', 'DoS-Slowhttptest', 'DoS-Heartbleed',\n",
       "       'Infiltration', 'DDoS-LDAP', 'DDoS-NetBIOS', 'DDoS-MSSQL',\n",
       "       'DDoS-NTP', 'Portscan', 'DDoS-SNMP', 'DDoS-Syn', 'DDoS-TFTP',\n",
       "       'DDoS-UDPLag', 'Webattack-bruteforce', 'Webattack-XSS',\n",
       "       'Webattack-SQLi'], dtype=object)"
      ]
     },
     "execution_count": 7,
     "metadata": {},
     "output_type": "execute_result"
    }
   ],
   "execution_count": 7
  },
  {
   "metadata": {
    "ExecuteTime": {
     "end_time": "2024-11-06T09:53:05.953739Z",
     "start_time": "2024-11-06T09:53:05.250277Z"
    }
   },
   "cell_type": "code",
   "source": "df = df.drop(columns=['Label'], axis=1)",
   "outputs": [],
   "execution_count": 8
  },
  {
   "metadata": {},
   "cell_type": "markdown",
   "source": "**I decided to drop column ```Label``` because it has 32 unique columns.**"
  },
  {
   "metadata": {
    "ExecuteTime": {
     "end_time": "2024-11-06T09:53:22.905888Z",
     "start_time": "2024-11-06T09:53:05.956735Z"
    }
   },
   "cell_type": "code",
   "source": [
    "plt.figure(figsize=(8, 5))\n",
    "sns.countplot(x='ClassLabel', data=df, palette='Set2', hue='ClassLabel')\n",
    "plt.title('Distribution of the Target ClassLabel')\n",
    "plt.xlabel('Target Labels')\n",
    "plt.ylabel('Count')\n",
    "plt.xticks()  # Adjust the font size according to your preference\n",
    "plt.savefig('Distribution_target_variables.jpg')\n",
    "plt.show()"
   ],
   "outputs": [
    {
     "data": {
      "text/plain": [
       "<Figure size 800x500 with 1 Axes>"
      ],
      "image/png": "[encoded data removed]"
     },
     "metadata": {},
     "output_type": "display_data"
    }
   ],
   "execution_count": 9
  },
  {
   "cell_type": "code",
   "metadata": {
    "ExecuteTime": {
     "end_time": "2024-11-06T09:53:22.927027Z",
     "start_time": "2024-11-06T09:53:22.923915Z"
    }
   },
   "source": [
    "# for col in numerical_cols:\n",
    "#     plt.figure(figsize=(10, 6))\n",
    "#     sns.histplot(df[col], kde=True, bins=30)\n",
    "#     plt.title(f'Distribution of {col}')\n",
    "#     plt.show()"
   ],
   "outputs": [],
   "execution_count": 10
  },
  {
   "cell_type": "code",
   "metadata": {
    "ExecuteTime": {
     "end_time": "2024-11-06T09:53:23.285051Z",
     "start_time": "2024-11-06T09:53:22.944954Z"
    }
   },
   "source": [
    "df['ClassLabel'].value_counts()"
   ],
   "outputs": [
    {
     "data": {
      "text/plain": [
       "ClassLabel\n",
       "Benign          7186189\n",
       "DDoS            1234729\n",
       "DoS              397344\n",
       "Botnet           145968\n",
       "Bruteforce       103244\n",
       "Infiltration      94857\n",
       "Webattack          2995\n",
       "Portscan           2255\n",
       "Name: count, dtype: int64"
      ]
     },
     "execution_count": 11,
     "metadata": {},
     "output_type": "execute_result"
    }
   ],
   "execution_count": 11
  },
  {
   "cell_type": "code",
   "metadata": {
    "ExecuteTime": {
     "end_time": "2024-11-06T09:53:23.492271Z",
     "start_time": "2024-11-06T09:53:23.488686Z"
    }
   },
   "source": [
    "# labels_and_counts = {\n",
    "#     'Benign': 7186189,\n",
    "#     'DDoS': 1234729,\n",
    "#     'DoS': 397344,\n",
    "#     'Botnet': 145968,\n",
    "#     'Bruteforce': 103244,\n",
    "#     'Infiltration': 94857,\n",
    "#     'Webattack': 2995,\n",
    "#     'Portscan': 2255\n",
    "# }\n",
    "# \n",
    "# # check if rows with each label are unique\n",
    "# for label, count in labels_and_counts.items():\n",
    "#     rows_with_label = df[df['ClassLabel'] == label]\n",
    "# \n",
    "#     if not rows_with_label.duplicated().any():\n",
    "#         print(f\"All {count} rows with label '{label}' are unique.\")\n",
    "#     else:\n",
    "#         print(f\"There are duplicates in {count} rows with label '{label}'.\")\n",
    "#         print(rows_with_label[rows_with_label.duplicated()])\n",
    "# \n",
    "#     print(\"=\" * 50)"
   ],
   "outputs": [],
   "execution_count": 12
  },
  {
   "cell_type": "code",
   "metadata": {
    "ExecuteTime": {
     "end_time": "2024-11-06T09:54:29.568784Z",
     "start_time": "2024-11-06T09:53:23.531885Z"
    }
   },
   "source": [
    "df.drop_duplicates(subset=df.columns[:-1], keep='first')\n",
    "df.shape"
   ],
   "outputs": [
    {
     "data": {
      "text/plain": [
       "(9167581, 58)"
      ]
     },
     "execution_count": 13,
     "metadata": {},
     "output_type": "execute_result"
    }
   ],
   "execution_count": 13
  },
  {
   "cell_type": "code",
   "metadata": {
    "ExecuteTime": {
     "end_time": "2024-11-06T09:54:47.423857Z",
     "start_time": "2024-11-06T09:54:29.584196Z"
    }
   },
   "source": [
    "plt.figure(figsize=(8, 5))\n",
    "sns.countplot(x='ClassLabel', data=df, palette='Set2', hue='ClassLabel')\n",
    "plt.title('Distribution of the Target ClassLabel')\n",
    "plt.xlabel('Target Labels')\n",
    "plt.ylabel('Count')\n",
    "plt.xticks()  # Adjust the font size according to your preference\n",
    "plt.savefig('distribution_target_variables.jpg')\n",
    "plt.show()"
   ],
   "outputs": [
    {
     "data": {
      "text/plain": [
       "<Figure size 800x500 with 1 Axes>"
      ],
      "image/png": "[encoded data removed]"
     },
     "metadata": {},
     "output_type": "display_data"
    }
   ],
   "execution_count": 14
  },
  {
   "cell_type": "code",
   "metadata": {
    "ExecuteTime": {
     "end_time": "2024-11-06T09:54:47.818995Z",
     "start_time": "2024-11-06T09:54:47.441557Z"
    }
   },
   "source": [
    "df['ClassLabel'].unique()"
   ],
   "outputs": [
    {
     "data": {
      "text/plain": [
       "array(['Benign', 'Botnet', 'Bruteforce', 'DoS', 'DDoS', 'Infiltration',\n",
       "       'Portscan', 'Webattack'], dtype=object)"
      ]
     },
     "execution_count": 15,
     "metadata": {},
     "output_type": "execute_result"
    }
   ],
   "execution_count": 15
  },
  {
   "cell_type": "code",
   "metadata": {
    "ExecuteTime": {
     "end_time": "2024-11-06T09:54:48.139254Z",
     "start_time": "2024-11-06T09:54:47.837411Z"
    }
   },
   "source": [
    "# get the counts of each label\n",
    "label_counts = df['ClassLabel'].value_counts()\n",
    "label_counts"
   ],
   "outputs": [
    {
     "data": {
      "text/plain": [
       "ClassLabel\n",
       "Benign          7186189\n",
       "DDoS            1234729\n",
       "DoS              397344\n",
       "Botnet           145968\n",
       "Bruteforce       103244\n",
       "Infiltration      94857\n",
       "Webattack          2995\n",
       "Portscan           2255\n",
       "Name: count, dtype: int64"
      ]
     },
     "execution_count": 16,
     "metadata": {},
     "output_type": "execute_result"
    }
   ],
   "execution_count": 16
  },
  {
   "metadata": {
    "ExecuteTime": {
     "end_time": "2024-11-06T09:54:49.960333Z",
     "start_time": "2024-11-06T09:54:48.181765Z"
    }
   },
   "cell_type": "code",
   "source": [
    "labels_to_keep = ['Benign', 'DDoS', 'Bruteforce', 'Botnet']\n",
    "\n",
    "df = df[df['ClassLabel'].isin(labels_to_keep)]"
   ],
   "outputs": [],
   "execution_count": 17
  },
  {
   "metadata": {
    "ExecuteTime": {
     "end_time": "2024-11-06T09:54:49.988298Z",
     "start_time": "2024-11-06T09:54:49.984292Z"
    }
   },
   "cell_type": "code",
   "source": "df.shape",
   "outputs": [
    {
     "data": {
      "text/plain": [
       "(8670130, 58)"
      ]
     },
     "execution_count": 18,
     "metadata": {},
     "output_type": "execute_result"
    }
   ],
   "execution_count": 18
  },
  {
   "metadata": {
    "ExecuteTime": {
     "end_time": "2024-11-06T09:55:06.015356Z",
     "start_time": "2024-11-06T09:54:50.009269Z"
    }
   },
   "cell_type": "code",
   "source": [
    "plt.figure(figsize=(8, 5))\n",
    "sns.countplot(x='ClassLabel', data=df, palette='Set2', hue='ClassLabel')\n",
    "plt.xlabel('Target Labels')\n",
    "plt.ylabel('Count')\n",
    "plt.xticks()\n",
    "plt.savefig('distribution_after_dropping_targets.png')\n",
    "plt.show()"
   ],
   "outputs": [
    {
     "data": {
      "text/plain": [
       "<Figure size 800x500 with 1 Axes>"
      ],
      "image/png": "[encoded data removed]"
     },
     "metadata": {},
     "output_type": "display_data"
    }
   ],
   "execution_count": 19
  },
  {
   "metadata": {},
   "cell_type": "markdown",
   "source": "__Let's check which features are high positive correlation with the target__"
  },
  {
   "metadata": {
    "ExecuteTime": {
     "end_time": "2024-11-06T09:56:07.937433Z",
     "start_time": "2024-11-06T09:55:06.034056Z"
    }
   },
   "cell_type": "code",
   "source": [
    "from sklearn.preprocessing import LabelEncoder\n",
    "\n",
    "# Encode the 'ClassLabel' column to numerical values for correlation\n",
    "df['ClassLabel'] = df['ClassLabel'].astype('category').cat.codes\n",
    "\n",
    "label_encoder = LabelEncoder()\n",
    "df['ClassLabel'] = label_encoder.fit_transform(df['ClassLabel'])\n",
    "\n",
    "correlation_matrix = df.corr()\n",
    "sorted_cor_labels = correlation_matrix['ClassLabel'].drop('ClassLabel').sort_values(ascending=False)\n",
    "sorted_cor_labels.head()"
   ],
   "outputs": [
    {
     "data": {
      "text/plain": [
       "Avg Packet Size           0.218567\n",
       "Packet Length Mean        0.203483\n",
       "Bwd Packet Length Std     0.187353\n",
       "Packet Length Variance    0.161060\n",
       "Bwd Packet Length Max     0.137389\n",
       "Name: ClassLabel, dtype: float64"
      ]
     },
     "execution_count": 20,
     "metadata": {},
     "output_type": "execute_result"
    }
   ],
   "execution_count": 20
  },
  {
   "metadata": {
    "ExecuteTime": {
     "end_time": "2024-11-06T09:56:08.005641Z",
     "start_time": "2024-11-06T09:56:08.001237Z"
    }
   },
   "cell_type": "code",
   "source": [
    "positive_correlation_features = sorted_cor_labels[sorted_cor_labels > 0.1].index.tolist()\n",
    "positive_correlation_features"
   ],
   "outputs": [
    {
     "data": {
      "text/plain": [
       "['Avg Packet Size',\n",
       " 'Packet Length Mean',\n",
       " 'Bwd Packet Length Std',\n",
       " 'Packet Length Variance',\n",
       " 'Bwd Packet Length Max',\n",
       " 'Packet Length Max',\n",
       " 'Packet Length Std',\n",
       " 'Avg Fwd Segment Size',\n",
       " 'Fwd Packet Length Mean',\n",
       " 'Flow Bytes/s']"
      ]
     },
     "execution_count": 21,
     "metadata": {},
     "output_type": "execute_result"
    }
   ],
   "execution_count": 21
  },
  {
   "metadata": {
    "ExecuteTime": {
     "end_time": "2024-11-06T09:56:08.299697Z",
     "start_time": "2024-11-06T09:56:08.062418Z"
    }
   },
   "cell_type": "code",
   "source": [
    "df = df[positive_correlation_features + ['ClassLabel']]\n",
    "df.shape"
   ],
   "outputs": [
    {
     "data": {
      "text/plain": [
       "(8670130, 11)"
      ]
     },
     "execution_count": 22,
     "metadata": {},
     "output_type": "execute_result"
    }
   ],
   "execution_count": 22
  },
  {
   "metadata": {
    "ExecuteTime": {
     "end_time": "2024-11-06T09:56:08.328526Z",
     "start_time": "2024-11-06T09:56:08.317130Z"
    }
   },
   "cell_type": "code",
   "source": "df.head()",
   "outputs": [
    {
     "data": {
      "text/plain": [
       "   Avg Packet Size  Packet Length Mean  Bwd Packet Length Std  \\\n",
       "0          9.00000            6.000000               0.000000   \n",
       "1          9.00000            6.000000               0.000000   \n",
       "2          9.00000            6.000000               0.000000   \n",
       "3          9.00000            6.000000               0.000000   \n",
       "4         81.63636           74.833336             119.511505   \n",
       "\n",
       "   Packet Length Variance  Bwd Packet Length Max  Packet Length Max  \\\n",
       "0                0.000000                    0.0                6.0   \n",
       "1                0.000000                    0.0                6.0   \n",
       "2                0.000000                    0.0                6.0   \n",
       "3                0.000000                    0.0                6.0   \n",
       "4            11562.151367                  207.0              233.0   \n",
       "\n",
       "   Packet Length Std  Avg Fwd Segment Size  Fwd Packet Length Mean  \\\n",
       "0           0.000000               6.00000                 6.00000   \n",
       "1           0.000000               6.00000                 6.00000   \n",
       "2           0.000000               6.00000                 6.00000   \n",
       "3           0.000000               6.00000                 6.00000   \n",
       "4         107.527443              69.14286                69.14286   \n",
       "\n",
       "   Flow Bytes/s  ClassLabel  \n",
       "0  3.000000e+06           0  \n",
       "1  1.200000e+07           0  \n",
       "2  4.000000e+06           0  \n",
       "3  1.200000e+07           0  \n",
       "4  1.474548e+06           0  "
      ],
      "text/html": [
       "<div>\n",
       "<style scoped>\n",
       "    .dataframe tbody tr th:only-of-type {\n",
       "        vertical-align: middle;\n",
       "    }\n",
       "\n",
       "    .dataframe tbody tr th {\n",
       "        vertical-align: top;\n",
       "    }\n",
       "\n",
       "    .dataframe thead th {\n",
       "        text-align: right;\n",
       "    }\n",
       "</style>\n",
       "<table border=\"1\" class=\"dataframe\">\n",
       "  <thead>\n",
       "    <tr style=\"text-align: right;\">\n",
       "      <th></th>\n",
       "      <th>Avg Packet Size</th>\n",
       "      <th>Packet Length Mean</th>\n",
       "      <th>Bwd Packet Length Std</th>\n",
       "      <th>Packet Length Variance</th>\n",
       "      <th>Bwd Packet Length Max</th>\n",
       "      <th>Packet Length Max</th>\n",
       "      <th>Packet Length Std</th>\n",
       "      <th>Avg Fwd Segment Size</th>\n",
       "      <th>Fwd Packet Length Mean</th>\n",
       "      <th>Flow Bytes/s</th>\n",
       "      <th>ClassLabel</th>\n",
       "    </tr>\n",
       "  </thead>\n",
       "  <tbody>\n",
       "    <tr>\n",
       "      <th>0</th>\n",
       "      <td>9.00000</td>\n",
       "      <td>6.000000</td>\n",
       "      <td>0.000000</td>\n",
       "      <td>0.000000</td>\n",
       "      <td>0.0</td>\n",
       "      <td>6.0</td>\n",
       "      <td>0.000000</td>\n",
       "      <td>6.00000</td>\n",
       "      <td>6.00000</td>\n",
       "      <td>3.000000e+06</td>\n",
       "      <td>0</td>\n",
       "    </tr>\n",
       "    <tr>\n",
       "      <th>1</th>\n",
       "      <td>9.00000</td>\n",
       "      <td>6.000000</td>\n",
       "      <td>0.000000</td>\n",
       "      <td>0.000000</td>\n",
       "      <td>0.0</td>\n",
       "      <td>6.0</td>\n",
       "      <td>0.000000</td>\n",
       "      <td>6.00000</td>\n",
       "      <td>6.00000</td>\n",
       "      <td>1.200000e+07</td>\n",
       "      <td>0</td>\n",
       "    </tr>\n",
       "    <tr>\n",
       "      <th>2</th>\n",
       "      <td>9.00000</td>\n",
       "      <td>6.000000</td>\n",
       "      <td>0.000000</td>\n",
       "      <td>0.000000</td>\n",
       "      <td>0.0</td>\n",
       "      <td>6.0</td>\n",
       "      <td>0.000000</td>\n",
       "      <td>6.00000</td>\n",
       "      <td>6.00000</td>\n",
       "      <td>4.000000e+06</td>\n",
       "      <td>0</td>\n",
       "    </tr>\n",
       "    <tr>\n",
       "      <th>3</th>\n",
       "      <td>9.00000</td>\n",
       "      <td>6.000000</td>\n",
       "      <td>0.000000</td>\n",
       "      <td>0.000000</td>\n",
       "      <td>0.0</td>\n",
       "      <td>6.0</td>\n",
       "      <td>0.000000</td>\n",
       "      <td>6.00000</td>\n",
       "      <td>6.00000</td>\n",
       "      <td>1.200000e+07</td>\n",
       "      <td>0</td>\n",
       "    </tr>\n",
       "    <tr>\n",
       "      <th>4</th>\n",
       "      <td>81.63636</td>\n",
       "      <td>74.833336</td>\n",
       "      <td>119.511505</td>\n",
       "      <td>11562.151367</td>\n",
       "      <td>207.0</td>\n",
       "      <td>233.0</td>\n",
       "      <td>107.527443</td>\n",
       "      <td>69.14286</td>\n",
       "      <td>69.14286</td>\n",
       "      <td>1.474548e+06</td>\n",
       "      <td>0</td>\n",
       "    </tr>\n",
       "  </tbody>\n",
       "</table>\n",
       "</div>"
      ]
     },
     "execution_count": 23,
     "metadata": {},
     "output_type": "execute_result"
    }
   ],
   "execution_count": 23
  },
  {
   "metadata": {
    "ExecuteTime": {
     "end_time": "2024-11-06T09:58:19.400898Z",
     "start_time": "2024-11-06T09:58:16.399295Z"
    }
   },
   "cell_type": "code",
   "source": "df.to_parquet('preprocessed.parquet', index=False)",
   "outputs": [],
   "execution_count": 24
  }
 ],
 "metadata": {
  "kernelspec": {
   "display_name": "cp-env",
   "language": "python",
   "name": "python3"
  },
  "language_info": {
   "codemirror_mode": {
    "name": "ipython",
    "version": 3
   },
   "file_extension": ".py",
   "mimetype": "text/x-python",
   "name": "python",
   "nbconvert_exporter": "python",
   "pygments_lexer": "ipython3",
   "version": "3.12.5"
  }
 },
 "nbformat": 4,
 "nbformat_minor": 2
}
